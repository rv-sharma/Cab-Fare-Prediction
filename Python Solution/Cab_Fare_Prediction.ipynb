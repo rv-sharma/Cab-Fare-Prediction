{
 "cells": [
  {
   "cell_type": "markdown",
   "metadata": {},
   "source": [
    "# Importing Modules"
   ]
  },
  {
   "cell_type": "code",
   "execution_count": 1,
   "metadata": {},
   "outputs": [],
   "source": [
    "# Data Handling\n",
    "import pandas as pd\n",
    "import numpy as np\n",
    " \n",
    "# Visualization\n",
    "import seaborn as sns\n",
    "import matplotlib.pyplot as plt\n",
    "%matplotlib inline\n",
    "\n",
    "# Metrics\n",
    "from sklearn.metrics import mean_squared_error\n",
    "from math import sqrt\n",
    "from geopy.distance import geodesic\n",
    "\n",
    "# Sampling & Scaling\n",
    "from sklearn.model_selection import train_test_split, RandomizedSearchCV\n",
    "from sklearn.preprocessing import StandardScaler\n",
    "\n",
    "# Modelling\n",
    "from sklearn.linear_model import LinearRegression\n",
    "from sklearn.tree import DecisionTreeRegressor\n",
    "from sklearn.ensemble import RandomForestRegressor\n",
    "from lightgbm import LGBMRegressor\n",
    "\n",
    "import pickle\n",
    "\n",
    "# Warning Handling\n",
    "import warnings\n",
    "warnings.simplefilter(\"ignore\")"
   ]
  },
  {
   "cell_type": "markdown",
   "metadata": {},
   "source": [
    "# Defining Functions for Accuracy Metrics, Distance Calculation & Modelling"
   ]
  },
  {
   "cell_type": "code",
   "execution_count": 2,
   "metadata": {},
   "outputs": [],
   "source": [
    "def mean_absolute_percentage_error(actual, pred): \n",
    "    actual, pred = np.array(actual), np.array(pred)\n",
    "    return np.mean(np.abs((actual - pred) / actual)) * 100\n",
    "\n",
    "def acc_metrics(actual_values,predicted_values):\n",
    "    print('Accuracy Metrics:')\n",
    "    mse=round(mean_squared_error(actual_values,predicted_values),2)\n",
    "    rmse=round(sqrt(mse),2)\n",
    "    mape=round(mean_absolute_percentage_error(actual_values,predicted_values),2)    \n",
    "    print('Mean Squared Error: ',mse)\n",
    "    print('Root Mean Squared Error: ',rmse)\n",
    "    print('Mean Absolute Percentage Error: ',mape)\n",
    "           \n",
    "    return mse,rmse,mape"
   ]
  },
  {
   "cell_type": "code",
   "execution_count": 3,
   "metadata": {},
   "outputs": [],
   "source": [
    "def modelling(x_train, x_test, y_train, y_test):\n",
    "    \n",
    "    print('\\nLinear Regression Modelling')\n",
    "    LR_model=LinearRegression()\n",
    "    LR_model.fit(x_train,y_train)\n",
    "    acc_metrics(y_test,LR_model.predict(x_test))\n",
    "    \n",
    "    print('\\nDecision Tree Regressor Modelling')\n",
    "    DT_model=DecisionTreeRegressor(max_depth=5)\n",
    "    DT_model.fit(x_train,y_train)\n",
    "    acc_metrics(y_test,DT_model.predict(x_test))\n",
    "    \n",
    "    print('\\nRandom Forest Regressor Modelling')\n",
    "    RF_model=RandomForestRegressor()\n",
    "    RF_model.fit(x_train,y_train)\n",
    "    acc_metrics(y_test,RF_model.predict(x_test))\n",
    "    \n",
    "    print('\\nLightGBM Regressor Modelling')\n",
    "    LGB_model = LGBMRegressor()\n",
    "    LGB_model.fit(x_train, y_train, eval_set=[(x_test,y_test)],eval_metric='rmse', verbose=0, early_stopping_rounds=5000)\n",
    "    acc_metrics(y_test,LGB_model.predict(x_test))\n",
    "    \n",
    "    return LR_model, DT_model, RF_model, LGB_model"
   ]
  },
  {
   "cell_type": "code",
   "execution_count": 4,
   "metadata": {},
   "outputs": [],
   "source": [
    "def distance(dataset):\n",
    "    geodesic_dist=[]\n",
    "    \n",
    "    for i in range(len(dataset)):\n",
    "        pickup = (dataset.pickup_latitude.iloc[i], dataset.pickup_longitude.iloc[i])\n",
    "        dropoff = (dataset.dropoff_latitude.iloc[i], dataset.dropoff_longitude.iloc[i])\n",
    "        geodesic_dist.append(abs(round(geodesic(pickup, dropoff).miles,2)))\n",
    "        \n",
    "    dataset['distance']=geodesic_dist\n",
    "    dataset.drop(columns=['pickup_longitude','pickup_latitude','dropoff_longitude','dropoff_latitude'],inplace=True)\n",
    "\n",
    "    return dataset"
   ]
  },
  {
   "cell_type": "code",
   "execution_count": 5,
   "metadata": {},
   "outputs": [],
   "source": [
    "def time_features(dataset):\n",
    "    dataset['year']=pd.DatetimeIndex(dataset.pickup_datetime).year\n",
    "    dataset['month']=pd.DatetimeIndex(dataset.pickup_datetime).month\n",
    "    dataset['week_day']=pd.DatetimeIndex(dataset.pickup_datetime).weekday\n",
    "    dataset['hour']=pd.DatetimeIndex(dataset.pickup_datetime).hour\n",
    "       \n",
    "    dataset.drop(columns=['pickup_datetime'],inplace=True)\n",
    "    \n",
    "    return dataset    "
   ]
  },
  {
   "cell_type": "code",
   "execution_count": 6,
   "metadata": {},
   "outputs": [],
   "source": [
    "def cab_type(dataset):\n",
    "    dataset['cab_type']=[0 if i<4 else 1 for i in dataset.passenger_count ]\n",
    "    dataset.drop(columns=['passenger_count'],inplace=True)\n",
    "    \n",
    "    return dataset"
   ]
  },
  {
   "cell_type": "markdown",
   "metadata": {},
   "source": [
    "# Importing Datasets"
   ]
  },
  {
   "cell_type": "code",
   "execution_count": 7,
   "metadata": {},
   "outputs": [],
   "source": [
    "train_data=pd.read_csv('train_cab.csv')\n",
    "test_data=pd.read_csv('test.csv')"
   ]
  },
  {
   "cell_type": "code",
   "execution_count": 8,
   "metadata": {},
   "outputs": [
    {
     "data": {
      "text/html": [
       "<div>\n",
       "<style scoped>\n",
       "    .dataframe tbody tr th:only-of-type {\n",
       "        vertical-align: middle;\n",
       "    }\n",
       "\n",
       "    .dataframe tbody tr th {\n",
       "        vertical-align: top;\n",
       "    }\n",
       "\n",
       "    .dataframe thead th {\n",
       "        text-align: right;\n",
       "    }\n",
       "</style>\n",
       "<table border=\"1\" class=\"dataframe\">\n",
       "  <thead>\n",
       "    <tr style=\"text-align: right;\">\n",
       "      <th></th>\n",
       "      <th>fare_amount</th>\n",
       "      <th>pickup_datetime</th>\n",
       "      <th>pickup_longitude</th>\n",
       "      <th>pickup_latitude</th>\n",
       "      <th>dropoff_longitude</th>\n",
       "      <th>dropoff_latitude</th>\n",
       "      <th>passenger_count</th>\n",
       "    </tr>\n",
       "  </thead>\n",
       "  <tbody>\n",
       "    <tr>\n",
       "      <th>0</th>\n",
       "      <td>4.5</td>\n",
       "      <td>2009-06-15 17:26:21 UTC</td>\n",
       "      <td>-73.844311</td>\n",
       "      <td>40.721319</td>\n",
       "      <td>-73.841610</td>\n",
       "      <td>40.712278</td>\n",
       "      <td>1.0</td>\n",
       "    </tr>\n",
       "    <tr>\n",
       "      <th>1</th>\n",
       "      <td>16.9</td>\n",
       "      <td>2010-01-05 16:52:16 UTC</td>\n",
       "      <td>-74.016048</td>\n",
       "      <td>40.711303</td>\n",
       "      <td>-73.979268</td>\n",
       "      <td>40.782004</td>\n",
       "      <td>1.0</td>\n",
       "    </tr>\n",
       "    <tr>\n",
       "      <th>2</th>\n",
       "      <td>5.7</td>\n",
       "      <td>2011-08-18 00:35:00 UTC</td>\n",
       "      <td>-73.982738</td>\n",
       "      <td>40.761270</td>\n",
       "      <td>-73.991242</td>\n",
       "      <td>40.750562</td>\n",
       "      <td>2.0</td>\n",
       "    </tr>\n",
       "    <tr>\n",
       "      <th>3</th>\n",
       "      <td>7.7</td>\n",
       "      <td>2012-04-21 04:30:42 UTC</td>\n",
       "      <td>-73.987130</td>\n",
       "      <td>40.733143</td>\n",
       "      <td>-73.991567</td>\n",
       "      <td>40.758092</td>\n",
       "      <td>1.0</td>\n",
       "    </tr>\n",
       "    <tr>\n",
       "      <th>4</th>\n",
       "      <td>5.3</td>\n",
       "      <td>2010-03-09 07:51:00 UTC</td>\n",
       "      <td>-73.968095</td>\n",
       "      <td>40.768008</td>\n",
       "      <td>-73.956655</td>\n",
       "      <td>40.783762</td>\n",
       "      <td>1.0</td>\n",
       "    </tr>\n",
       "  </tbody>\n",
       "</table>\n",
       "</div>"
      ],
      "text/plain": [
       "  fare_amount          pickup_datetime  pickup_longitude  pickup_latitude  \\\n",
       "0         4.5  2009-06-15 17:26:21 UTC        -73.844311        40.721319   \n",
       "1        16.9  2010-01-05 16:52:16 UTC        -74.016048        40.711303   \n",
       "2         5.7  2011-08-18 00:35:00 UTC        -73.982738        40.761270   \n",
       "3         7.7  2012-04-21 04:30:42 UTC        -73.987130        40.733143   \n",
       "4         5.3  2010-03-09 07:51:00 UTC        -73.968095        40.768008   \n",
       "\n",
       "   dropoff_longitude  dropoff_latitude  passenger_count  \n",
       "0         -73.841610         40.712278              1.0  \n",
       "1         -73.979268         40.782004              1.0  \n",
       "2         -73.991242         40.750562              2.0  \n",
       "3         -73.991567         40.758092              1.0  \n",
       "4         -73.956655         40.783762              1.0  "
      ]
     },
     "execution_count": 8,
     "metadata": {},
     "output_type": "execute_result"
    }
   ],
   "source": [
    "train_data.head()"
   ]
  },
  {
   "cell_type": "code",
   "execution_count": 9,
   "metadata": {},
   "outputs": [
    {
     "data": {
      "text/html": [
       "<div>\n",
       "<style scoped>\n",
       "    .dataframe tbody tr th:only-of-type {\n",
       "        vertical-align: middle;\n",
       "    }\n",
       "\n",
       "    .dataframe tbody tr th {\n",
       "        vertical-align: top;\n",
       "    }\n",
       "\n",
       "    .dataframe thead th {\n",
       "        text-align: right;\n",
       "    }\n",
       "</style>\n",
       "<table border=\"1\" class=\"dataframe\">\n",
       "  <thead>\n",
       "    <tr style=\"text-align: right;\">\n",
       "      <th></th>\n",
       "      <th>pickup_datetime</th>\n",
       "      <th>pickup_longitude</th>\n",
       "      <th>pickup_latitude</th>\n",
       "      <th>dropoff_longitude</th>\n",
       "      <th>dropoff_latitude</th>\n",
       "      <th>passenger_count</th>\n",
       "    </tr>\n",
       "  </thead>\n",
       "  <tbody>\n",
       "    <tr>\n",
       "      <th>0</th>\n",
       "      <td>2015-01-27 13:08:24 UTC</td>\n",
       "      <td>-73.973320</td>\n",
       "      <td>40.763805</td>\n",
       "      <td>-73.981430</td>\n",
       "      <td>40.743835</td>\n",
       "      <td>1</td>\n",
       "    </tr>\n",
       "    <tr>\n",
       "      <th>1</th>\n",
       "      <td>2015-01-27 13:08:24 UTC</td>\n",
       "      <td>-73.986862</td>\n",
       "      <td>40.719383</td>\n",
       "      <td>-73.998886</td>\n",
       "      <td>40.739201</td>\n",
       "      <td>1</td>\n",
       "    </tr>\n",
       "    <tr>\n",
       "      <th>2</th>\n",
       "      <td>2011-10-08 11:53:44 UTC</td>\n",
       "      <td>-73.982524</td>\n",
       "      <td>40.751260</td>\n",
       "      <td>-73.979654</td>\n",
       "      <td>40.746139</td>\n",
       "      <td>1</td>\n",
       "    </tr>\n",
       "    <tr>\n",
       "      <th>3</th>\n",
       "      <td>2012-12-01 21:12:12 UTC</td>\n",
       "      <td>-73.981160</td>\n",
       "      <td>40.767807</td>\n",
       "      <td>-73.990448</td>\n",
       "      <td>40.751635</td>\n",
       "      <td>1</td>\n",
       "    </tr>\n",
       "    <tr>\n",
       "      <th>4</th>\n",
       "      <td>2012-12-01 21:12:12 UTC</td>\n",
       "      <td>-73.966046</td>\n",
       "      <td>40.789775</td>\n",
       "      <td>-73.988565</td>\n",
       "      <td>40.744427</td>\n",
       "      <td>1</td>\n",
       "    </tr>\n",
       "  </tbody>\n",
       "</table>\n",
       "</div>"
      ],
      "text/plain": [
       "           pickup_datetime  pickup_longitude  pickup_latitude  \\\n",
       "0  2015-01-27 13:08:24 UTC        -73.973320        40.763805   \n",
       "1  2015-01-27 13:08:24 UTC        -73.986862        40.719383   \n",
       "2  2011-10-08 11:53:44 UTC        -73.982524        40.751260   \n",
       "3  2012-12-01 21:12:12 UTC        -73.981160        40.767807   \n",
       "4  2012-12-01 21:12:12 UTC        -73.966046        40.789775   \n",
       "\n",
       "   dropoff_longitude  dropoff_latitude  passenger_count  \n",
       "0         -73.981430         40.743835                1  \n",
       "1         -73.998886         40.739201                1  \n",
       "2         -73.979654         40.746139                1  \n",
       "3         -73.990448         40.751635                1  \n",
       "4         -73.988565         40.744427                1  "
      ]
     },
     "execution_count": 9,
     "metadata": {},
     "output_type": "execute_result"
    }
   ],
   "source": [
    "test_data.head()"
   ]
  },
  {
   "cell_type": "code",
   "execution_count": 10,
   "metadata": {},
   "outputs": [],
   "source": [
    "train_data[\"fare_amount\"] = pd.to_numeric(train_data[\"fare_amount\"],errors = \"coerce\")\n",
    "train_data.pickup_datetime=pd.to_datetime(train_data.pickup_datetime,errors='coerce')\n",
    "\n",
    "test_data.pickup_datetime=pd.to_datetime(test_data.pickup_datetime,errors='coerce')"
   ]
  },
  {
   "cell_type": "code",
   "execution_count": 11,
   "metadata": {},
   "outputs": [
    {
     "name": "stdout",
     "output_type": "stream",
     "text": [
      "<class 'pandas.core.frame.DataFrame'>\n",
      "RangeIndex: 16067 entries, 0 to 16066\n",
      "Data columns (total 7 columns):\n",
      " #   Column             Non-Null Count  Dtype              \n",
      "---  ------             --------------  -----              \n",
      " 0   fare_amount        16042 non-null  float64            \n",
      " 1   pickup_datetime    16066 non-null  datetime64[ns, UTC]\n",
      " 2   pickup_longitude   16067 non-null  float64            \n",
      " 3   pickup_latitude    16067 non-null  float64            \n",
      " 4   dropoff_longitude  16067 non-null  float64            \n",
      " 5   dropoff_latitude   16067 non-null  float64            \n",
      " 6   passenger_count    16012 non-null  float64            \n",
      "dtypes: datetime64[ns, UTC](1), float64(6)\n",
      "memory usage: 878.8 KB\n"
     ]
    }
   ],
   "source": [
    "train_data.info()"
   ]
  },
  {
   "cell_type": "code",
   "execution_count": 12,
   "metadata": {},
   "outputs": [
    {
     "name": "stdout",
     "output_type": "stream",
     "text": [
      "<class 'pandas.core.frame.DataFrame'>\n",
      "RangeIndex: 9914 entries, 0 to 9913\n",
      "Data columns (total 6 columns):\n",
      " #   Column             Non-Null Count  Dtype              \n",
      "---  ------             --------------  -----              \n",
      " 0   pickup_datetime    9914 non-null   datetime64[ns, UTC]\n",
      " 1   pickup_longitude   9914 non-null   float64            \n",
      " 2   pickup_latitude    9914 non-null   float64            \n",
      " 3   dropoff_longitude  9914 non-null   float64            \n",
      " 4   dropoff_latitude   9914 non-null   float64            \n",
      " 5   passenger_count    9914 non-null   int64              \n",
      "dtypes: datetime64[ns, UTC](1), float64(4), int64(1)\n",
      "memory usage: 464.8 KB\n"
     ]
    }
   ],
   "source": [
    "test_data.info()"
   ]
  },
  {
   "cell_type": "code",
   "execution_count": 13,
   "metadata": {},
   "outputs": [
    {
     "data": {
      "text/plain": [
       "(16067, 7)"
      ]
     },
     "execution_count": 13,
     "metadata": {},
     "output_type": "execute_result"
    }
   ],
   "source": [
    "train_data.shape"
   ]
  },
  {
   "cell_type": "code",
   "execution_count": 14,
   "metadata": {},
   "outputs": [
    {
     "data": {
      "text/plain": [
       "(9914, 6)"
      ]
     },
     "execution_count": 14,
     "metadata": {},
     "output_type": "execute_result"
    }
   ],
   "source": [
    "test_data.shape"
   ]
  },
  {
   "cell_type": "markdown",
   "metadata": {},
   "source": [
    "##### Observations for datasets:\n",
    "1. The train data contains 16067 observations.\n",
    "2. The test data contains 9914 observations.\n",
    "3. Train Data contains a datetime variable, a passanger count variable, pickup & dropoff Latitute longitude variables & one\n",
    "   target variable fare amount.\n",
    "4. Test Data contains a datetime variable, a passanger count variable & pickup & dropoff Latitute longitude variables."
   ]
  },
  {
   "cell_type": "markdown",
   "metadata": {},
   "source": [
    "# Data Pre-Processing"
   ]
  },
  {
   "cell_type": "markdown",
   "metadata": {},
   "source": [
    "### 1. Missing Value Analysis"
   ]
  },
  {
   "cell_type": "code",
   "execution_count": 15,
   "metadata": {},
   "outputs": [
    {
     "data": {
      "text/plain": [
       "81"
      ]
     },
     "execution_count": 15,
     "metadata": {},
     "output_type": "execute_result"
    }
   ],
   "source": [
    "train_data.isnull().sum().sum()"
   ]
  },
  {
   "cell_type": "code",
   "execution_count": 16,
   "metadata": {},
   "outputs": [
    {
     "data": {
      "text/plain": [
       "0"
      ]
     },
     "execution_count": 16,
     "metadata": {},
     "output_type": "execute_result"
    }
   ],
   "source": [
    "test_data.isnull().sum().sum()"
   ]
  },
  {
   "cell_type": "code",
   "execution_count": 17,
   "metadata": {},
   "outputs": [
    {
     "data": {
      "text/plain": [
       "fare_amount          25\n",
       "pickup_datetime       1\n",
       "pickup_longitude      0\n",
       "pickup_latitude       0\n",
       "dropoff_longitude     0\n",
       "dropoff_latitude      0\n",
       "passenger_count      55\n",
       "dtype: int64"
      ]
     },
     "execution_count": 17,
     "metadata": {},
     "output_type": "execute_result"
    }
   ],
   "source": [
    "# Missing Values in Train Data\n",
    "\n",
    "train_data.isnull().sum()"
   ]
  },
  {
   "cell_type": "code",
   "execution_count": 18,
   "metadata": {},
   "outputs": [],
   "source": [
    "# Dropping the missing values\n",
    "\n",
    "train_data.dropna(inplace=True)"
   ]
  },
  {
   "cell_type": "code",
   "execution_count": 19,
   "metadata": {},
   "outputs": [
    {
     "data": {
      "text/plain": [
       "(15986, 7)"
      ]
     },
     "execution_count": 19,
     "metadata": {},
     "output_type": "execute_result"
    }
   ],
   "source": [
    "train_data.shape"
   ]
  },
  {
   "cell_type": "code",
   "execution_count": 20,
   "metadata": {},
   "outputs": [
    {
     "data": {
      "text/plain": [
       "pickup_datetime      0\n",
       "pickup_longitude     0\n",
       "pickup_latitude      0\n",
       "dropoff_longitude    0\n",
       "dropoff_latitude     0\n",
       "passenger_count      0\n",
       "dtype: int64"
      ]
     },
     "execution_count": 20,
     "metadata": {},
     "output_type": "execute_result"
    }
   ],
   "source": [
    "test_data.isnull().sum()"
   ]
  },
  {
   "cell_type": "markdown",
   "metadata": {},
   "source": [
    "##### Observations missing value analysis:\n",
    "1. The train dataset contains 81 missing values. Which is 0.5% of total observations, thus dropping missing values.\n",
    "2. The test dataset doesnot contains any missing values.\n",
    "3. Shape of train dataset after removing missing values is: (15986, 7)"
   ]
  },
  {
   "cell_type": "markdown",
   "metadata": {},
   "source": [
    "### 2. Checking training data for impurities"
   ]
  },
  {
   "cell_type": "code",
   "execution_count": 21,
   "metadata": {
    "scrolled": true
   },
   "outputs": [
    {
     "data": {
      "text/html": [
       "<div>\n",
       "<style scoped>\n",
       "    .dataframe tbody tr th:only-of-type {\n",
       "        vertical-align: middle;\n",
       "    }\n",
       "\n",
       "    .dataframe tbody tr th {\n",
       "        vertical-align: top;\n",
       "    }\n",
       "\n",
       "    .dataframe thead th {\n",
       "        text-align: right;\n",
       "    }\n",
       "</style>\n",
       "<table border=\"1\" class=\"dataframe\">\n",
       "  <thead>\n",
       "    <tr style=\"text-align: right;\">\n",
       "      <th></th>\n",
       "      <th>fare_amount</th>\n",
       "      <th>pickup_longitude</th>\n",
       "      <th>pickup_latitude</th>\n",
       "      <th>dropoff_longitude</th>\n",
       "      <th>dropoff_latitude</th>\n",
       "      <th>passenger_count</th>\n",
       "    </tr>\n",
       "  </thead>\n",
       "  <tbody>\n",
       "    <tr>\n",
       "      <th>count</th>\n",
       "      <td>15986.000000</td>\n",
       "      <td>15986.000000</td>\n",
       "      <td>15986.000000</td>\n",
       "      <td>15986.000000</td>\n",
       "      <td>15986.000000</td>\n",
       "      <td>15986.000000</td>\n",
       "    </tr>\n",
       "    <tr>\n",
       "      <th>mean</th>\n",
       "      <td>15.030453</td>\n",
       "      <td>-72.464352</td>\n",
       "      <td>39.915577</td>\n",
       "      <td>-72.463909</td>\n",
       "      <td>39.898671</td>\n",
       "      <td>2.623272</td>\n",
       "    </tr>\n",
       "    <tr>\n",
       "      <th>std</th>\n",
       "      <td>431.213944</td>\n",
       "      <td>10.573594</td>\n",
       "      <td>6.829028</td>\n",
       "      <td>10.570256</td>\n",
       "      <td>6.186375</td>\n",
       "      <td>60.892140</td>\n",
       "    </tr>\n",
       "    <tr>\n",
       "      <th>min</th>\n",
       "      <td>-3.000000</td>\n",
       "      <td>-74.438233</td>\n",
       "      <td>-74.006893</td>\n",
       "      <td>-74.429332</td>\n",
       "      <td>-74.006377</td>\n",
       "      <td>0.000000</td>\n",
       "    </tr>\n",
       "    <tr>\n",
       "      <th>25%</th>\n",
       "      <td>6.000000</td>\n",
       "      <td>-73.992144</td>\n",
       "      <td>40.734935</td>\n",
       "      <td>-73.991182</td>\n",
       "      <td>40.734647</td>\n",
       "      <td>1.000000</td>\n",
       "    </tr>\n",
       "    <tr>\n",
       "      <th>50%</th>\n",
       "      <td>8.500000</td>\n",
       "      <td>-73.981691</td>\n",
       "      <td>40.752603</td>\n",
       "      <td>-73.980168</td>\n",
       "      <td>40.753549</td>\n",
       "      <td>1.000000</td>\n",
       "    </tr>\n",
       "    <tr>\n",
       "      <th>75%</th>\n",
       "      <td>12.500000</td>\n",
       "      <td>-73.966817</td>\n",
       "      <td>40.767353</td>\n",
       "      <td>-73.963644</td>\n",
       "      <td>40.768005</td>\n",
       "      <td>2.000000</td>\n",
       "    </tr>\n",
       "    <tr>\n",
       "      <th>max</th>\n",
       "      <td>54343.000000</td>\n",
       "      <td>40.766125</td>\n",
       "      <td>401.083332</td>\n",
       "      <td>40.802437</td>\n",
       "      <td>41.366138</td>\n",
       "      <td>5345.000000</td>\n",
       "    </tr>\n",
       "  </tbody>\n",
       "</table>\n",
       "</div>"
      ],
      "text/plain": [
       "        fare_amount  pickup_longitude  pickup_latitude  dropoff_longitude  \\\n",
       "count  15986.000000      15986.000000     15986.000000       15986.000000   \n",
       "mean      15.030453        -72.464352        39.915577         -72.463909   \n",
       "std      431.213944         10.573594         6.829028          10.570256   \n",
       "min       -3.000000        -74.438233       -74.006893         -74.429332   \n",
       "25%        6.000000        -73.992144        40.734935         -73.991182   \n",
       "50%        8.500000        -73.981691        40.752603         -73.980168   \n",
       "75%       12.500000        -73.966817        40.767353         -73.963644   \n",
       "max    54343.000000         40.766125       401.083332          40.802437   \n",
       "\n",
       "       dropoff_latitude  passenger_count  \n",
       "count      15986.000000     15986.000000  \n",
       "mean          39.898671         2.623272  \n",
       "std            6.186375        60.892140  \n",
       "min          -74.006377         0.000000  \n",
       "25%           40.734647         1.000000  \n",
       "50%           40.753549         1.000000  \n",
       "75%           40.768005         2.000000  \n",
       "max           41.366138      5345.000000  "
      ]
     },
     "execution_count": 21,
     "metadata": {},
     "output_type": "execute_result"
    }
   ],
   "source": [
    "train_data.describe()"
   ]
  },
  {
   "cell_type": "code",
   "execution_count": 22,
   "metadata": {
    "scrolled": false
   },
   "outputs": [
    {
     "data": {
      "text/html": [
       "<div>\n",
       "<style scoped>\n",
       "    .dataframe tbody tr th:only-of-type {\n",
       "        vertical-align: middle;\n",
       "    }\n",
       "\n",
       "    .dataframe tbody tr th {\n",
       "        vertical-align: top;\n",
       "    }\n",
       "\n",
       "    .dataframe thead th {\n",
       "        text-align: right;\n",
       "    }\n",
       "</style>\n",
       "<table border=\"1\" class=\"dataframe\">\n",
       "  <thead>\n",
       "    <tr style=\"text-align: right;\">\n",
       "      <th></th>\n",
       "      <th>pickup_longitude</th>\n",
       "      <th>pickup_latitude</th>\n",
       "      <th>dropoff_longitude</th>\n",
       "      <th>dropoff_latitude</th>\n",
       "      <th>passenger_count</th>\n",
       "    </tr>\n",
       "  </thead>\n",
       "  <tbody>\n",
       "    <tr>\n",
       "      <th>count</th>\n",
       "      <td>9914.000000</td>\n",
       "      <td>9914.000000</td>\n",
       "      <td>9914.000000</td>\n",
       "      <td>9914.000000</td>\n",
       "      <td>9914.000000</td>\n",
       "    </tr>\n",
       "    <tr>\n",
       "      <th>mean</th>\n",
       "      <td>-73.974722</td>\n",
       "      <td>40.751041</td>\n",
       "      <td>-73.973657</td>\n",
       "      <td>40.751743</td>\n",
       "      <td>1.671273</td>\n",
       "    </tr>\n",
       "    <tr>\n",
       "      <th>std</th>\n",
       "      <td>0.042774</td>\n",
       "      <td>0.033541</td>\n",
       "      <td>0.039072</td>\n",
       "      <td>0.035435</td>\n",
       "      <td>1.278747</td>\n",
       "    </tr>\n",
       "    <tr>\n",
       "      <th>min</th>\n",
       "      <td>-74.252193</td>\n",
       "      <td>40.573143</td>\n",
       "      <td>-74.263242</td>\n",
       "      <td>40.568973</td>\n",
       "      <td>1.000000</td>\n",
       "    </tr>\n",
       "    <tr>\n",
       "      <th>25%</th>\n",
       "      <td>-73.992501</td>\n",
       "      <td>40.736125</td>\n",
       "      <td>-73.991247</td>\n",
       "      <td>40.735254</td>\n",
       "      <td>1.000000</td>\n",
       "    </tr>\n",
       "    <tr>\n",
       "      <th>50%</th>\n",
       "      <td>-73.982326</td>\n",
       "      <td>40.753051</td>\n",
       "      <td>-73.980015</td>\n",
       "      <td>40.754065</td>\n",
       "      <td>1.000000</td>\n",
       "    </tr>\n",
       "    <tr>\n",
       "      <th>75%</th>\n",
       "      <td>-73.968013</td>\n",
       "      <td>40.767113</td>\n",
       "      <td>-73.964059</td>\n",
       "      <td>40.768757</td>\n",
       "      <td>2.000000</td>\n",
       "    </tr>\n",
       "    <tr>\n",
       "      <th>max</th>\n",
       "      <td>-72.986532</td>\n",
       "      <td>41.709555</td>\n",
       "      <td>-72.990963</td>\n",
       "      <td>41.696683</td>\n",
       "      <td>6.000000</td>\n",
       "    </tr>\n",
       "  </tbody>\n",
       "</table>\n",
       "</div>"
      ],
      "text/plain": [
       "       pickup_longitude  pickup_latitude  dropoff_longitude  dropoff_latitude  \\\n",
       "count       9914.000000      9914.000000        9914.000000       9914.000000   \n",
       "mean         -73.974722        40.751041         -73.973657         40.751743   \n",
       "std            0.042774         0.033541           0.039072          0.035435   \n",
       "min          -74.252193        40.573143         -74.263242         40.568973   \n",
       "25%          -73.992501        40.736125         -73.991247         40.735254   \n",
       "50%          -73.982326        40.753051         -73.980015         40.754065   \n",
       "75%          -73.968013        40.767113         -73.964059         40.768757   \n",
       "max          -72.986532        41.709555         -72.990963         41.696683   \n",
       "\n",
       "       passenger_count  \n",
       "count      9914.000000  \n",
       "mean          1.671273  \n",
       "std           1.278747  \n",
       "min           1.000000  \n",
       "25%           1.000000  \n",
       "50%           1.000000  \n",
       "75%           2.000000  \n",
       "max           6.000000  "
      ]
     },
     "execution_count": 22,
     "metadata": {},
     "output_type": "execute_result"
    }
   ],
   "source": [
    "test_data.describe()"
   ]
  },
  {
   "cell_type": "markdown",
   "metadata": {},
   "source": [
    "##### Observations for train data:\n",
    "1. This data is for United States as lat 40.xxx & long -73.xxx locate to New York United States. So, \n",
    "    latitude range  = 40.xxx to 42.xxx\n",
    "    longitude range = -72.xxx to -74.xxx\n",
    "2. Impure data in pickup & dropoff longitude as it contains values outside their range i.e. 40.xxx.\n",
    "3. Impure data in pickup & dropoff latitude as it contains values outside their range i.e. -74.xxx.\n",
    "4. Fare Amount contains some very high values as Standard deviation of $ 430 is quite high. "
   ]
  },
  {
   "cell_type": "markdown",
   "metadata": {},
   "source": [
    "### 3. Treating training data for impurities"
   ]
  },
  {
   "cell_type": "markdown",
   "metadata": {},
   "source": [
    "#### A. Treating Passenger Count"
   ]
  },
  {
   "cell_type": "code",
   "execution_count": 23,
   "metadata": {
    "scrolled": false
   },
   "outputs": [
    {
     "data": {
      "text/plain": [
       "1    6914\n",
       "2    1474\n",
       "5     696\n",
       "3     447\n",
       "4     206\n",
       "6     177\n",
       "Name: passenger_count, dtype: int64"
      ]
     },
     "execution_count": 23,
     "metadata": {},
     "output_type": "execute_result"
    }
   ],
   "source": [
    "test_data.passenger_count.value_counts()"
   ]
  },
  {
   "cell_type": "code",
   "execution_count": 24,
   "metadata": {},
   "outputs": [
    {
     "data": {
      "text/plain": [
       "array([   1,    2,    3,    6,    5,    4,  236,  456, 5334,    0,  535,\n",
       "        354,  554,   53,   35,  345, 5345,  536,   43,   58,  537,   87,\n",
       "        531,  557])"
      ]
     },
     "execution_count": 24,
     "metadata": {},
     "output_type": "execute_result"
    }
   ],
   "source": [
    "train_data.passenger_count=train_data.passenger_count.astype('int')\n",
    "train_data.passenger_count.unique()"
   ]
  },
  {
   "cell_type": "code",
   "execution_count": 25,
   "metadata": {},
   "outputs": [],
   "source": [
    "#As Test data contains the values in range [1,2,3,4,5,6]. Removing all the other values from dataset.\n",
    "\n",
    "i=[1,2,3,4,5,6]\n",
    "train_data.passenger_count=train_data.passenger_count.transform(lambda x: None if (x not in i) else x )"
   ]
  },
  {
   "cell_type": "code",
   "execution_count": 26,
   "metadata": {},
   "outputs": [
    {
     "data": {
      "text/plain": [
       "1.0    11242\n",
       "2.0     2319\n",
       "5.0     1044\n",
       "3.0      675\n",
       "4.0      328\n",
       "6.0      301\n",
       "Name: passenger_count, dtype: int64"
      ]
     },
     "execution_count": 26,
     "metadata": {},
     "output_type": "execute_result"
    }
   ],
   "source": [
    "train_data.passenger_count.value_counts()"
   ]
  },
  {
   "cell_type": "code",
   "execution_count": 27,
   "metadata": {},
   "outputs": [],
   "source": [
    "train_data.dropna(inplace=True)"
   ]
  },
  {
   "cell_type": "code",
   "execution_count": 28,
   "metadata": {},
   "outputs": [],
   "source": [
    "train_data.passenger_count=train_data.passenger_count.astype('int')"
   ]
  },
  {
   "cell_type": "code",
   "execution_count": 29,
   "metadata": {},
   "outputs": [
    {
     "data": {
      "text/plain": [
       "(15909, 7)"
      ]
     },
     "execution_count": 29,
     "metadata": {},
     "output_type": "execute_result"
    }
   ],
   "source": [
    "train_data.shape"
   ]
  },
  {
   "cell_type": "markdown",
   "metadata": {},
   "source": [
    "#### B. Treating Fare Amount"
   ]
  },
  {
   "cell_type": "code",
   "execution_count": 30,
   "metadata": {
    "scrolled": true
   },
   "outputs": [
    {
     "data": {
      "text/plain": [
       "(array([2., 1., 0., 0., 0., 0., 0., 2., 0., 1.]),\n",
       " array([-3.   , -2.586, -2.172, -1.758, -1.344, -0.93 , -0.516, -0.102,\n",
       "         0.312,  0.726,  1.14 ]),\n",
       " <a list of 10 Patch objects>)"
      ]
     },
     "execution_count": 30,
     "metadata": {},
     "output_type": "execute_result"
    },
    {
     "data": {
      "image/png": "[encoded data removed]",
      "text/plain": [
       "<Figure size 432x288 with 1 Axes>"
      ]
     },
     "metadata": {
      "needs_background": "light"
     },
     "output_type": "display_data"
    }
   ],
   "source": [
    "# Taking he minimum value of fare_amount as $2.5\n",
    "\n",
    "plt.hist(train_data.fare_amount[train_data.fare_amount<2.5])"
   ]
  },
  {
   "cell_type": "code",
   "execution_count": 31,
   "metadata": {},
   "outputs": [],
   "source": [
    "#Treating All the values less then $2.5 with None & removing them\n",
    "\n",
    "train_data.fare_amount[train_data.fare_amount <2.5]=None"
   ]
  },
  {
   "cell_type": "code",
   "execution_count": 32,
   "metadata": {},
   "outputs": [],
   "source": [
    "train_data.dropna(inplace=True)"
   ]
  },
  {
   "cell_type": "code",
   "execution_count": 33,
   "metadata": {},
   "outputs": [
    {
     "data": {
      "text/plain": [
       "(15903, 7)"
      ]
     },
     "execution_count": 33,
     "metadata": {},
     "output_type": "execute_result"
    }
   ],
   "source": [
    "train_data.shape"
   ]
  },
  {
   "cell_type": "markdown",
   "metadata": {},
   "source": [
    "#### C. Treating Pickup & dropoff (Lat Long) Values"
   ]
  },
  {
   "cell_type": "code",
   "execution_count": 34,
   "metadata": {},
   "outputs": [
    {
     "data": {
      "image/png": "[encoded data removed]",
      "text/plain": [
       "<Figure size 1008x720 with 4 Axes>"
      ]
     },
     "metadata": {
      "needs_background": "light"
     },
     "output_type": "display_data"
    }
   ],
   "source": [
    "plt.figure(figsize=(14,10))\n",
    "for i,col in enumerate(['pickup_longitude','pickup_latitude','dropoff_longitude','dropoff_latitude']):\n",
    "    plt.subplot(2,2,i+1)\n",
    "    sns.distplot(test_data[col])\n",
    "    plt.title(col)\n",
    "plt.show()    "
   ]
  },
  {
   "cell_type": "code",
   "execution_count": 35,
   "metadata": {},
   "outputs": [
    {
     "data": {
      "image/png": "[encoded data removed]",
      "text/plain": [
       "<Figure size 1008x720 with 4 Axes>"
      ]
     },
     "metadata": {
      "needs_background": "light"
     },
     "output_type": "display_data"
    }
   ],
   "source": [
    "plt.figure(figsize=(14,10))\n",
    "for i,col in enumerate(['pickup_longitude','pickup_latitude','dropoff_longitude','dropoff_latitude']):\n",
    "    plt.subplot(2,2,i+1)\n",
    "    sns.distplot(train_data[col])\n",
    "    plt.title(col)\n",
    "plt.show()    "
   ]
  },
  {
   "cell_type": "code",
   "execution_count": 36,
   "metadata": {},
   "outputs": [],
   "source": [
    "# lat long values Treating All the values outside range with None\n",
    "\n",
    "train_data.dropoff_latitude[train_data.dropoff_latitude < 40] = None\n",
    "train_data.dropoff_latitude[train_data.dropoff_latitude > 42] = None\n",
    "\n",
    "train_data.pickup_latitude[train_data.pickup_latitude < 40] = None\n",
    "train_data.pickup_latitude[train_data.pickup_latitude > 42] = None\n",
    "\n",
    "train_data.dropoff_longitude[train_data.dropoff_longitude < -74] = None\n",
    "train_data.dropoff_longitude[train_data.dropoff_longitude > -72] = None\n",
    "\n",
    "train_data.pickup_longitude[train_data.pickup_longitude < -74] = None\n",
    "train_data.pickup_longitude[train_data.pickup_longitude > -72] = None"
   ]
  },
  {
   "cell_type": "code",
   "execution_count": 37,
   "metadata": {},
   "outputs": [],
   "source": [
    "train_data.dropna(inplace=True)"
   ]
  },
  {
   "cell_type": "code",
   "execution_count": 38,
   "metadata": {},
   "outputs": [
    {
     "data": {
      "text/plain": [
       "(12034, 7)"
      ]
     },
     "execution_count": 38,
     "metadata": {},
     "output_type": "execute_result"
    }
   ],
   "source": [
    "train_data.shape"
   ]
  },
  {
   "cell_type": "code",
   "execution_count": 39,
   "metadata": {},
   "outputs": [
    {
     "data": {
      "text/html": [
       "<div>\n",
       "<style scoped>\n",
       "    .dataframe tbody tr th:only-of-type {\n",
       "        vertical-align: middle;\n",
       "    }\n",
       "\n",
       "    .dataframe tbody tr th {\n",
       "        vertical-align: top;\n",
       "    }\n",
       "\n",
       "    .dataframe thead th {\n",
       "        text-align: right;\n",
       "    }\n",
       "</style>\n",
       "<table border=\"1\" class=\"dataframe\">\n",
       "  <thead>\n",
       "    <tr style=\"text-align: right;\">\n",
       "      <th></th>\n",
       "      <th>fare_amount</th>\n",
       "      <th>pickup_longitude</th>\n",
       "      <th>pickup_latitude</th>\n",
       "      <th>dropoff_longitude</th>\n",
       "      <th>dropoff_latitude</th>\n",
       "      <th>passenger_count</th>\n",
       "    </tr>\n",
       "  </thead>\n",
       "  <tbody>\n",
       "    <tr>\n",
       "      <th>count</th>\n",
       "      <td>12034.000000</td>\n",
       "      <td>12034.000000</td>\n",
       "      <td>12034.000000</td>\n",
       "      <td>12034.000000</td>\n",
       "      <td>12034.000000</td>\n",
       "      <td>12034.000000</td>\n",
       "    </tr>\n",
       "    <tr>\n",
       "      <th>mean</th>\n",
       "      <td>11.059156</td>\n",
       "      <td>-73.968718</td>\n",
       "      <td>40.755722</td>\n",
       "      <td>-73.967540</td>\n",
       "      <td>40.756736</td>\n",
       "      <td>1.640435</td>\n",
       "    </tr>\n",
       "    <tr>\n",
       "      <th>std</th>\n",
       "      <td>10.265631</td>\n",
       "      <td>0.042519</td>\n",
       "      <td>0.032423</td>\n",
       "      <td>0.039460</td>\n",
       "      <td>0.034069</td>\n",
       "      <td>1.257543</td>\n",
       "    </tr>\n",
       "    <tr>\n",
       "      <th>min</th>\n",
       "      <td>2.500000</td>\n",
       "      <td>-73.999998</td>\n",
       "      <td>40.121653</td>\n",
       "      <td>-73.999999</td>\n",
       "      <td>40.164927</td>\n",
       "      <td>1.000000</td>\n",
       "    </tr>\n",
       "    <tr>\n",
       "      <th>25%</th>\n",
       "      <td>5.700000</td>\n",
       "      <td>-73.987535</td>\n",
       "      <td>40.743621</td>\n",
       "      <td>-73.986256</td>\n",
       "      <td>40.744209</td>\n",
       "      <td>1.000000</td>\n",
       "    </tr>\n",
       "    <tr>\n",
       "      <th>50%</th>\n",
       "      <td>8.100000</td>\n",
       "      <td>-73.978250</td>\n",
       "      <td>40.758355</td>\n",
       "      <td>-73.976810</td>\n",
       "      <td>40.758629</td>\n",
       "      <td>1.000000</td>\n",
       "    </tr>\n",
       "    <tr>\n",
       "      <th>75%</th>\n",
       "      <td>12.000000</td>\n",
       "      <td>-73.963726</td>\n",
       "      <td>40.771040</td>\n",
       "      <td>-73.961000</td>\n",
       "      <td>40.772251</td>\n",
       "      <td>2.000000</td>\n",
       "    </tr>\n",
       "    <tr>\n",
       "      <th>max</th>\n",
       "      <td>434.000000</td>\n",
       "      <td>-73.137393</td>\n",
       "      <td>41.366138</td>\n",
       "      <td>-73.137393</td>\n",
       "      <td>41.366138</td>\n",
       "      <td>6.000000</td>\n",
       "    </tr>\n",
       "  </tbody>\n",
       "</table>\n",
       "</div>"
      ],
      "text/plain": [
       "        fare_amount  pickup_longitude  pickup_latitude  dropoff_longitude  \\\n",
       "count  12034.000000      12034.000000     12034.000000       12034.000000   \n",
       "mean      11.059156        -73.968718        40.755722         -73.967540   \n",
       "std       10.265631          0.042519         0.032423           0.039460   \n",
       "min        2.500000        -73.999998        40.121653         -73.999999   \n",
       "25%        5.700000        -73.987535        40.743621         -73.986256   \n",
       "50%        8.100000        -73.978250        40.758355         -73.976810   \n",
       "75%       12.000000        -73.963726        40.771040         -73.961000   \n",
       "max      434.000000        -73.137393        41.366138         -73.137393   \n",
       "\n",
       "       dropoff_latitude  passenger_count  \n",
       "count      12034.000000     12034.000000  \n",
       "mean          40.756736         1.640435  \n",
       "std            0.034069         1.257543  \n",
       "min           40.164927         1.000000  \n",
       "25%           40.744209         1.000000  \n",
       "50%           40.758629         1.000000  \n",
       "75%           40.772251         2.000000  \n",
       "max           41.366138         6.000000  "
      ]
     },
     "execution_count": 39,
     "metadata": {},
     "output_type": "execute_result"
    }
   ],
   "source": [
    "train_data.describe()"
   ]
  },
  {
   "cell_type": "markdown",
   "metadata": {},
   "source": [
    "### 4. Outlier Analysis on fare_amount"
   ]
  },
  {
   "cell_type": "code",
   "execution_count": 40,
   "metadata": {
    "collapsed": true
   },
   "outputs": [
    {
     "data": {
      "text/plain": [
       "<matplotlib.axes._subplots.AxesSubplot at 0x2e75dae6388>"
      ]
     },
     "execution_count": 40,
     "metadata": {},
     "output_type": "execute_result"
    },
    {
     "data": {
      "image/png": "[encoded data removed]",
      "text/plain": [
       "<Figure size 576x432 with 1 Axes>"
      ]
     },
     "metadata": {
      "needs_background": "light"
     },
     "output_type": "display_data"
    }
   ],
   "source": [
    "plt.figure(figsize=(8,6))\n",
    "sns.boxenplot(train_data.fare_amount)"
   ]
  },
  {
   "cell_type": "code",
   "execution_count": 41,
   "metadata": {},
   "outputs": [
    {
     "data": {
      "text/plain": [
       "<matplotlib.axes._subplots.AxesSubplot at 0x2e75d7ff888>"
      ]
     },
     "execution_count": 41,
     "metadata": {},
     "output_type": "execute_result"
    },
    {
     "data": {
      "image/png": "[encoded data removed]",
      "text/plain": [
       "<Figure size 432x288 with 1 Axes>"
      ]
     },
     "metadata": {
      "needs_background": "light"
     },
     "output_type": "display_data"
    }
   ],
   "source": [
    "sns.scatterplot(train_data.fare_amount,train_data.index)"
   ]
  },
  {
   "cell_type": "code",
   "execution_count": 42,
   "metadata": {},
   "outputs": [
    {
     "name": "stdout",
     "output_type": "stream",
     "text": [
      "Max out bound:  21.45\n",
      "Min out bound:  -3.749999999999999\n"
     ]
    }
   ],
   "source": [
    "# Fare Amount Column\n",
    "\n",
    "q75, q25 = np.percentile(train_data.fare_amount, [75 ,25])\n",
    "iqr = q75 - q25\n",
    "minimum = q25 - (iqr*1.5)\n",
    "maximum = q75 + (iqr*1.5)\n",
    "\n",
    "train_data.fare_amount[train_data.fare_amount < minimum]=None\n",
    "train_data.fare_amount[train_data.fare_amount > maximum]=None\n",
    "\n",
    "print('Max out bound: ',maximum)\n",
    "print('Min out bound: ',minimum)"
   ]
  },
  {
   "cell_type": "code",
   "execution_count": 43,
   "metadata": {},
   "outputs": [
    {
     "data": {
      "text/plain": [
       "(10904, 7)"
      ]
     },
     "execution_count": 43,
     "metadata": {},
     "output_type": "execute_result"
    }
   ],
   "source": [
    "train_data.dropna(inplace=True)\n",
    "train_data.shape"
   ]
  },
  {
   "cell_type": "code",
   "execution_count": 44,
   "metadata": {},
   "outputs": [
    {
     "data": {
      "text/plain": [
       "<matplotlib.axes._subplots.AxesSubplot at 0x2e75d87de08>"
      ]
     },
     "execution_count": 44,
     "metadata": {},
     "output_type": "execute_result"
    },
    {
     "data": {
      "image/png": "[encoded data removed]",
      "text/plain": [
       "<Figure size 432x288 with 1 Axes>"
      ]
     },
     "metadata": {
      "needs_background": "light"
     },
     "output_type": "display_data"
    }
   ],
   "source": [
    "sns.scatterplot(train_data.fare_amount,train_data.index)"
   ]
  },
  {
   "cell_type": "code",
   "execution_count": 45,
   "metadata": {
    "scrolled": false
   },
   "outputs": [
    {
     "data": {
      "text/html": [
       "<div>\n",
       "<style scoped>\n",
       "    .dataframe tbody tr th:only-of-type {\n",
       "        vertical-align: middle;\n",
       "    }\n",
       "\n",
       "    .dataframe tbody tr th {\n",
       "        vertical-align: top;\n",
       "    }\n",
       "\n",
       "    .dataframe thead th {\n",
       "        text-align: right;\n",
       "    }\n",
       "</style>\n",
       "<table border=\"1\" class=\"dataframe\">\n",
       "  <thead>\n",
       "    <tr style=\"text-align: right;\">\n",
       "      <th></th>\n",
       "      <th>fare_amount</th>\n",
       "      <th>pickup_longitude</th>\n",
       "      <th>pickup_latitude</th>\n",
       "      <th>dropoff_longitude</th>\n",
       "      <th>dropoff_latitude</th>\n",
       "      <th>passenger_count</th>\n",
       "    </tr>\n",
       "  </thead>\n",
       "  <tbody>\n",
       "    <tr>\n",
       "      <th>count</th>\n",
       "      <td>10904.000000</td>\n",
       "      <td>10904.000000</td>\n",
       "      <td>10904.000000</td>\n",
       "      <td>10904.000000</td>\n",
       "      <td>10904.000000</td>\n",
       "      <td>10904.000000</td>\n",
       "    </tr>\n",
       "    <tr>\n",
       "      <th>mean</th>\n",
       "      <td>8.478238</td>\n",
       "      <td>-73.973953</td>\n",
       "      <td>40.757525</td>\n",
       "      <td>-73.972399</td>\n",
       "      <td>40.757868</td>\n",
       "      <td>1.634079</td>\n",
       "    </tr>\n",
       "    <tr>\n",
       "      <th>std</th>\n",
       "      <td>3.835843</td>\n",
       "      <td>0.032338</td>\n",
       "      <td>0.029588</td>\n",
       "      <td>0.030854</td>\n",
       "      <td>0.030208</td>\n",
       "      <td>1.255565</td>\n",
       "    </tr>\n",
       "    <tr>\n",
       "      <th>min</th>\n",
       "      <td>2.500000</td>\n",
       "      <td>-73.999998</td>\n",
       "      <td>40.121653</td>\n",
       "      <td>-73.999999</td>\n",
       "      <td>40.164927</td>\n",
       "      <td>1.000000</td>\n",
       "    </tr>\n",
       "    <tr>\n",
       "      <th>25%</th>\n",
       "      <td>5.500000</td>\n",
       "      <td>-73.987781</td>\n",
       "      <td>40.744323</td>\n",
       "      <td>-73.986828</td>\n",
       "      <td>40.745075</td>\n",
       "      <td>1.000000</td>\n",
       "    </tr>\n",
       "    <tr>\n",
       "      <th>50%</th>\n",
       "      <td>7.500000</td>\n",
       "      <td>-73.978776</td>\n",
       "      <td>40.758517</td>\n",
       "      <td>-73.977677</td>\n",
       "      <td>40.758728</td>\n",
       "      <td>1.000000</td>\n",
       "    </tr>\n",
       "    <tr>\n",
       "      <th>75%</th>\n",
       "      <td>10.500000</td>\n",
       "      <td>-73.965827</td>\n",
       "      <td>40.771043</td>\n",
       "      <td>-73.963447</td>\n",
       "      <td>40.772084</td>\n",
       "      <td>2.000000</td>\n",
       "    </tr>\n",
       "    <tr>\n",
       "      <th>max</th>\n",
       "      <td>21.330000</td>\n",
       "      <td>-73.137393</td>\n",
       "      <td>41.366138</td>\n",
       "      <td>-73.137393</td>\n",
       "      <td>41.366138</td>\n",
       "      <td>6.000000</td>\n",
       "    </tr>\n",
       "  </tbody>\n",
       "</table>\n",
       "</div>"
      ],
      "text/plain": [
       "        fare_amount  pickup_longitude  pickup_latitude  dropoff_longitude  \\\n",
       "count  10904.000000      10904.000000     10904.000000       10904.000000   \n",
       "mean       8.478238        -73.973953        40.757525         -73.972399   \n",
       "std        3.835843          0.032338         0.029588           0.030854   \n",
       "min        2.500000        -73.999998        40.121653         -73.999999   \n",
       "25%        5.500000        -73.987781        40.744323         -73.986828   \n",
       "50%        7.500000        -73.978776        40.758517         -73.977677   \n",
       "75%       10.500000        -73.965827        40.771043         -73.963447   \n",
       "max       21.330000        -73.137393        41.366138         -73.137393   \n",
       "\n",
       "       dropoff_latitude  passenger_count  \n",
       "count      10904.000000     10904.000000  \n",
       "mean          40.757868         1.634079  \n",
       "std            0.030208         1.255565  \n",
       "min           40.164927         1.000000  \n",
       "25%           40.745075         1.000000  \n",
       "50%           40.758728         1.000000  \n",
       "75%           40.772084         2.000000  \n",
       "max           41.366138         6.000000  "
      ]
     },
     "execution_count": 45,
     "metadata": {},
     "output_type": "execute_result"
    }
   ],
   "source": [
    "train_data.describe()"
   ]
  },
  {
   "cell_type": "markdown",
   "metadata": {},
   "source": [
    "# Exploratory Data Analysis & Visualizations"
   ]
  },
  {
   "cell_type": "markdown",
   "metadata": {},
   "source": [
    "### 1. Feature Engineering"
   ]
  },
  {
   "cell_type": "markdown",
   "metadata": {},
   "source": [
    "#### A. Creating distance feature"
   ]
  },
  {
   "cell_type": "code",
   "execution_count": 46,
   "metadata": {},
   "outputs": [],
   "source": [
    "train_data=distance(train_data)\n",
    "test_data=distance(test_data)"
   ]
  },
  {
   "cell_type": "code",
   "execution_count": 47,
   "metadata": {
    "collapsed": true
   },
   "outputs": [
    {
     "data": {
      "text/plain": [
       "0.00    153\n",
       "0.76     84\n",
       "0.72     81\n",
       "0.54     76\n",
       "0.60     75\n",
       "       ... \n",
       "5.34      1\n",
       "6.07      1\n",
       "4.72      1\n",
       "4.86      1\n",
       "6.39      1\n",
       "Name: distance, Length: 586, dtype: int64"
      ]
     },
     "execution_count": 47,
     "metadata": {},
     "output_type": "execute_result"
    }
   ],
   "source": [
    "train_data.distance.value_counts()"
   ]
  },
  {
   "cell_type": "code",
   "execution_count": 48,
   "metadata": {
    "collapsed": true
   },
   "outputs": [
    {
     "data": {
      "text/plain": [
       "0.00    90\n",
       "0.66    68\n",
       "0.85    65\n",
       "0.98    61\n",
       "0.53    60\n",
       "        ..\n",
       "6.86     1\n",
       "4.98     1\n",
       "6.82     1\n",
       "8.38     1\n",
       "6.39     1\n",
       "Name: distance, Length: 961, dtype: int64"
      ]
     },
     "execution_count": 48,
     "metadata": {},
     "output_type": "execute_result"
    }
   ],
   "source": [
    "test_data.distance.value_counts()"
   ]
  },
  {
   "cell_type": "code",
   "execution_count": 49,
   "metadata": {},
   "outputs": [
    {
     "data": {
      "image/png": "[encoded data removed]",
      "text/plain": [
       "<Figure size 720x576 with 1 Axes>"
      ]
     },
     "metadata": {
      "needs_background": "light"
     },
     "output_type": "display_data"
    }
   ],
   "source": [
    "plt.figure(figsize=(10,8))\n",
    "\n",
    "sns.distplot(test_data['distance'],label='Test_Data_distance', hist=False)\n",
    "plt.title('test_data')\n",
    "sns.distplot(train_data['distance'],label='Train_Data_distance', hist=False)\n",
    "plt.title('train_data')\n",
    "plt.title(\"Train & Test data Distance Distribution\")\n",
    "plt.legend()\n",
    "plt.show()  "
   ]
  },
  {
   "cell_type": "markdown",
   "metadata": {},
   "source": [
    "##### Observations from above: \n",
    "1. Train & Test data almost have same distance distribution. Most Values lies between 0 - 10.\n",
    "2. Distance contains zero values."
   ]
  },
  {
   "cell_type": "code",
   "execution_count": 50,
   "metadata": {},
   "outputs": [],
   "source": [
    "train_data.distance=train_data.distance.transform(lambda x: None if ((x == 0) or (x > 10)) else x )\n",
    "train_data.dropna(inplace=True)"
   ]
  },
  {
   "cell_type": "code",
   "execution_count": 51,
   "metadata": {},
   "outputs": [
    {
     "data": {
      "text/plain": [
       "(10738, 4)"
      ]
     },
     "execution_count": 51,
     "metadata": {},
     "output_type": "execute_result"
    }
   ],
   "source": [
    "train_data.shape"
   ]
  },
  {
   "cell_type": "code",
   "execution_count": 52,
   "metadata": {},
   "outputs": [
    {
     "data": {
      "text/html": [
       "<div>\n",
       "<style scoped>\n",
       "    .dataframe tbody tr th:only-of-type {\n",
       "        vertical-align: middle;\n",
       "    }\n",
       "\n",
       "    .dataframe tbody tr th {\n",
       "        vertical-align: top;\n",
       "    }\n",
       "\n",
       "    .dataframe thead th {\n",
       "        text-align: right;\n",
       "    }\n",
       "</style>\n",
       "<table border=\"1\" class=\"dataframe\">\n",
       "  <thead>\n",
       "    <tr style=\"text-align: right;\">\n",
       "      <th></th>\n",
       "      <th>fare_amount</th>\n",
       "      <th>passenger_count</th>\n",
       "      <th>distance</th>\n",
       "    </tr>\n",
       "  </thead>\n",
       "  <tbody>\n",
       "    <tr>\n",
       "      <th>count</th>\n",
       "      <td>10738.000000</td>\n",
       "      <td>10738.000000</td>\n",
       "      <td>10738.000000</td>\n",
       "    </tr>\n",
       "    <tr>\n",
       "      <th>mean</th>\n",
       "      <td>8.508196</td>\n",
       "      <td>1.636059</td>\n",
       "      <td>1.449665</td>\n",
       "    </tr>\n",
       "    <tr>\n",
       "      <th>std</th>\n",
       "      <td>3.834311</td>\n",
       "      <td>1.257546</td>\n",
       "      <td>1.037355</td>\n",
       "    </tr>\n",
       "    <tr>\n",
       "      <th>min</th>\n",
       "      <td>2.500000</td>\n",
       "      <td>1.000000</td>\n",
       "      <td>0.010000</td>\n",
       "    </tr>\n",
       "    <tr>\n",
       "      <th>25%</th>\n",
       "      <td>5.700000</td>\n",
       "      <td>1.000000</td>\n",
       "      <td>0.720000</td>\n",
       "    </tr>\n",
       "    <tr>\n",
       "      <th>50%</th>\n",
       "      <td>7.700000</td>\n",
       "      <td>1.000000</td>\n",
       "      <td>1.160000</td>\n",
       "    </tr>\n",
       "    <tr>\n",
       "      <th>75%</th>\n",
       "      <td>10.500000</td>\n",
       "      <td>2.000000</td>\n",
       "      <td>1.870000</td>\n",
       "    </tr>\n",
       "    <tr>\n",
       "      <th>max</th>\n",
       "      <td>21.330000</td>\n",
       "      <td>6.000000</td>\n",
       "      <td>8.420000</td>\n",
       "    </tr>\n",
       "  </tbody>\n",
       "</table>\n",
       "</div>"
      ],
      "text/plain": [
       "        fare_amount  passenger_count      distance\n",
       "count  10738.000000     10738.000000  10738.000000\n",
       "mean       8.508196         1.636059      1.449665\n",
       "std        3.834311         1.257546      1.037355\n",
       "min        2.500000         1.000000      0.010000\n",
       "25%        5.700000         1.000000      0.720000\n",
       "50%        7.700000         1.000000      1.160000\n",
       "75%       10.500000         2.000000      1.870000\n",
       "max       21.330000         6.000000      8.420000"
      ]
     },
     "execution_count": 52,
     "metadata": {},
     "output_type": "execute_result"
    }
   ],
   "source": [
    "train_data.describe()"
   ]
  },
  {
   "cell_type": "code",
   "execution_count": 53,
   "metadata": {},
   "outputs": [
    {
     "data": {
      "image/png": "[encoded data removed]",
      "text/plain": [
       "<Figure size 1008x720 with 1 Axes>"
      ]
     },
     "metadata": {
      "needs_background": "light"
     },
     "output_type": "display_data"
    }
   ],
   "source": [
    "plt.figure(figsize=(14,10))\n",
    "sns.distplot(train_data['distance'])\n",
    "plt.title('Train_Data_Distance_Distribution')\n",
    "plt.show()  "
   ]
  },
  {
   "cell_type": "code",
   "execution_count": 54,
   "metadata": {
    "scrolled": true
   },
   "outputs": [
    {
     "data": {
      "text/html": [
       "<div>\n",
       "<style scoped>\n",
       "    .dataframe tbody tr th:only-of-type {\n",
       "        vertical-align: middle;\n",
       "    }\n",
       "\n",
       "    .dataframe tbody tr th {\n",
       "        vertical-align: top;\n",
       "    }\n",
       "\n",
       "    .dataframe thead th {\n",
       "        text-align: right;\n",
       "    }\n",
       "</style>\n",
       "<table border=\"1\" class=\"dataframe\">\n",
       "  <thead>\n",
       "    <tr style=\"text-align: right;\">\n",
       "      <th></th>\n",
       "      <th>fare_amount</th>\n",
       "      <th>pickup_datetime</th>\n",
       "      <th>passenger_count</th>\n",
       "      <th>distance</th>\n",
       "    </tr>\n",
       "  </thead>\n",
       "  <tbody>\n",
       "    <tr>\n",
       "      <th>0</th>\n",
       "      <td>4.5</td>\n",
       "      <td>2009-06-15 17:26:21+00:00</td>\n",
       "      <td>1</td>\n",
       "      <td>0.64</td>\n",
       "    </tr>\n",
       "    <tr>\n",
       "      <th>2</th>\n",
       "      <td>5.7</td>\n",
       "      <td>2011-08-18 00:35:00+00:00</td>\n",
       "      <td>2</td>\n",
       "      <td>0.86</td>\n",
       "    </tr>\n",
       "    <tr>\n",
       "      <th>3</th>\n",
       "      <td>7.7</td>\n",
       "      <td>2012-04-21 04:30:42+00:00</td>\n",
       "      <td>1</td>\n",
       "      <td>1.74</td>\n",
       "    </tr>\n",
       "    <tr>\n",
       "      <th>4</th>\n",
       "      <td>5.3</td>\n",
       "      <td>2010-03-09 07:51:00+00:00</td>\n",
       "      <td>1</td>\n",
       "      <td>1.24</td>\n",
       "    </tr>\n",
       "    <tr>\n",
       "      <th>6</th>\n",
       "      <td>7.5</td>\n",
       "      <td>2012-11-20 20:35:00+00:00</td>\n",
       "      <td>1</td>\n",
       "      <td>0.97</td>\n",
       "    </tr>\n",
       "  </tbody>\n",
       "</table>\n",
       "</div>"
      ],
      "text/plain": [
       "   fare_amount           pickup_datetime  passenger_count  distance\n",
       "0          4.5 2009-06-15 17:26:21+00:00                1      0.64\n",
       "2          5.7 2011-08-18 00:35:00+00:00                2      0.86\n",
       "3          7.7 2012-04-21 04:30:42+00:00                1      1.74\n",
       "4          5.3 2010-03-09 07:51:00+00:00                1      1.24\n",
       "6          7.5 2012-11-20 20:35:00+00:00                1      0.97"
      ]
     },
     "execution_count": 54,
     "metadata": {},
     "output_type": "execute_result"
    }
   ],
   "source": [
    "train_data.head()"
   ]
  },
  {
   "cell_type": "markdown",
   "metadata": {},
   "source": [
    "#### B. Creating Timestamp based feature"
   ]
  },
  {
   "cell_type": "code",
   "execution_count": 55,
   "metadata": {},
   "outputs": [],
   "source": [
    "train_data=time_features(train_data)\n",
    "test_data=time_features(test_data)"
   ]
  },
  {
   "cell_type": "code",
   "execution_count": 56,
   "metadata": {},
   "outputs": [
    {
     "data": {
      "text/html": [
       "<div>\n",
       "<style scoped>\n",
       "    .dataframe tbody tr th:only-of-type {\n",
       "        vertical-align: middle;\n",
       "    }\n",
       "\n",
       "    .dataframe tbody tr th {\n",
       "        vertical-align: top;\n",
       "    }\n",
       "\n",
       "    .dataframe thead th {\n",
       "        text-align: right;\n",
       "    }\n",
       "</style>\n",
       "<table border=\"1\" class=\"dataframe\">\n",
       "  <thead>\n",
       "    <tr style=\"text-align: right;\">\n",
       "      <th></th>\n",
       "      <th>fare_amount</th>\n",
       "      <th>passenger_count</th>\n",
       "      <th>distance</th>\n",
       "      <th>year</th>\n",
       "      <th>month</th>\n",
       "      <th>week_day</th>\n",
       "      <th>hour</th>\n",
       "    </tr>\n",
       "  </thead>\n",
       "  <tbody>\n",
       "    <tr>\n",
       "      <th>0</th>\n",
       "      <td>4.5</td>\n",
       "      <td>1</td>\n",
       "      <td>0.64</td>\n",
       "      <td>2009</td>\n",
       "      <td>6</td>\n",
       "      <td>0</td>\n",
       "      <td>17</td>\n",
       "    </tr>\n",
       "    <tr>\n",
       "      <th>2</th>\n",
       "      <td>5.7</td>\n",
       "      <td>2</td>\n",
       "      <td>0.86</td>\n",
       "      <td>2011</td>\n",
       "      <td>8</td>\n",
       "      <td>3</td>\n",
       "      <td>0</td>\n",
       "    </tr>\n",
       "    <tr>\n",
       "      <th>3</th>\n",
       "      <td>7.7</td>\n",
       "      <td>1</td>\n",
       "      <td>1.74</td>\n",
       "      <td>2012</td>\n",
       "      <td>4</td>\n",
       "      <td>5</td>\n",
       "      <td>4</td>\n",
       "    </tr>\n",
       "    <tr>\n",
       "      <th>4</th>\n",
       "      <td>5.3</td>\n",
       "      <td>1</td>\n",
       "      <td>1.24</td>\n",
       "      <td>2010</td>\n",
       "      <td>3</td>\n",
       "      <td>1</td>\n",
       "      <td>7</td>\n",
       "    </tr>\n",
       "    <tr>\n",
       "      <th>6</th>\n",
       "      <td>7.5</td>\n",
       "      <td>1</td>\n",
       "      <td>0.97</td>\n",
       "      <td>2012</td>\n",
       "      <td>11</td>\n",
       "      <td>1</td>\n",
       "      <td>20</td>\n",
       "    </tr>\n",
       "  </tbody>\n",
       "</table>\n",
       "</div>"
      ],
      "text/plain": [
       "   fare_amount  passenger_count  distance  year  month  week_day  hour\n",
       "0          4.5                1      0.64  2009      6         0    17\n",
       "2          5.7                2      0.86  2011      8         3     0\n",
       "3          7.7                1      1.74  2012      4         5     4\n",
       "4          5.3                1      1.24  2010      3         1     7\n",
       "6          7.5                1      0.97  2012     11         1    20"
      ]
     },
     "execution_count": 56,
     "metadata": {},
     "output_type": "execute_result"
    }
   ],
   "source": [
    "train_data.head()"
   ]
  },
  {
   "cell_type": "markdown",
   "metadata": {},
   "source": [
    "#### C. Creating Passenger Count based feature"
   ]
  },
  {
   "cell_type": "code",
   "execution_count": 57,
   "metadata": {},
   "outputs": [],
   "source": [
    "# 0 for small cab  &  1 for large cab\n",
    "\n",
    "train_data=cab_type(train_data)\n",
    "test_data=cab_type(test_data)"
   ]
  },
  {
   "cell_type": "code",
   "execution_count": 58,
   "metadata": {},
   "outputs": [
    {
     "data": {
      "text/html": [
       "<div>\n",
       "<style scoped>\n",
       "    .dataframe tbody tr th:only-of-type {\n",
       "        vertical-align: middle;\n",
       "    }\n",
       "\n",
       "    .dataframe tbody tr th {\n",
       "        vertical-align: top;\n",
       "    }\n",
       "\n",
       "    .dataframe thead th {\n",
       "        text-align: right;\n",
       "    }\n",
       "</style>\n",
       "<table border=\"1\" class=\"dataframe\">\n",
       "  <thead>\n",
       "    <tr style=\"text-align: right;\">\n",
       "      <th></th>\n",
       "      <th>fare_amount</th>\n",
       "      <th>distance</th>\n",
       "      <th>year</th>\n",
       "      <th>month</th>\n",
       "      <th>week_day</th>\n",
       "      <th>hour</th>\n",
       "      <th>cab_type</th>\n",
       "    </tr>\n",
       "  </thead>\n",
       "  <tbody>\n",
       "    <tr>\n",
       "      <th>0</th>\n",
       "      <td>4.5</td>\n",
       "      <td>0.64</td>\n",
       "      <td>2009</td>\n",
       "      <td>6</td>\n",
       "      <td>0</td>\n",
       "      <td>17</td>\n",
       "      <td>0</td>\n",
       "    </tr>\n",
       "    <tr>\n",
       "      <th>2</th>\n",
       "      <td>5.7</td>\n",
       "      <td>0.86</td>\n",
       "      <td>2011</td>\n",
       "      <td>8</td>\n",
       "      <td>3</td>\n",
       "      <td>0</td>\n",
       "      <td>0</td>\n",
       "    </tr>\n",
       "    <tr>\n",
       "      <th>3</th>\n",
       "      <td>7.7</td>\n",
       "      <td>1.74</td>\n",
       "      <td>2012</td>\n",
       "      <td>4</td>\n",
       "      <td>5</td>\n",
       "      <td>4</td>\n",
       "      <td>0</td>\n",
       "    </tr>\n",
       "    <tr>\n",
       "      <th>4</th>\n",
       "      <td>5.3</td>\n",
       "      <td>1.24</td>\n",
       "      <td>2010</td>\n",
       "      <td>3</td>\n",
       "      <td>1</td>\n",
       "      <td>7</td>\n",
       "      <td>0</td>\n",
       "    </tr>\n",
       "    <tr>\n",
       "      <th>6</th>\n",
       "      <td>7.5</td>\n",
       "      <td>0.97</td>\n",
       "      <td>2012</td>\n",
       "      <td>11</td>\n",
       "      <td>1</td>\n",
       "      <td>20</td>\n",
       "      <td>0</td>\n",
       "    </tr>\n",
       "  </tbody>\n",
       "</table>\n",
       "</div>"
      ],
      "text/plain": [
       "   fare_amount  distance  year  month  week_day  hour  cab_type\n",
       "0          4.5      0.64  2009      6         0    17         0\n",
       "2          5.7      0.86  2011      8         3     0         0\n",
       "3          7.7      1.74  2012      4         5     4         0\n",
       "4          5.3      1.24  2010      3         1     7         0\n",
       "6          7.5      0.97  2012     11         1    20         0"
      ]
     },
     "execution_count": 58,
     "metadata": {},
     "output_type": "execute_result"
    }
   ],
   "source": [
    "train_data.head()"
   ]
  },
  {
   "cell_type": "code",
   "execution_count": 59,
   "metadata": {},
   "outputs": [
    {
     "data": {
      "text/html": [
       "<div>\n",
       "<style scoped>\n",
       "    .dataframe tbody tr th:only-of-type {\n",
       "        vertical-align: middle;\n",
       "    }\n",
       "\n",
       "    .dataframe tbody tr th {\n",
       "        vertical-align: top;\n",
       "    }\n",
       "\n",
       "    .dataframe thead th {\n",
       "        text-align: right;\n",
       "    }\n",
       "</style>\n",
       "<table border=\"1\" class=\"dataframe\">\n",
       "  <thead>\n",
       "    <tr style=\"text-align: right;\">\n",
       "      <th></th>\n",
       "      <th>distance</th>\n",
       "      <th>year</th>\n",
       "      <th>month</th>\n",
       "      <th>week_day</th>\n",
       "      <th>hour</th>\n",
       "      <th>cab_type</th>\n",
       "    </tr>\n",
       "  </thead>\n",
       "  <tbody>\n",
       "    <tr>\n",
       "      <th>0</th>\n",
       "      <td>1.44</td>\n",
       "      <td>2015</td>\n",
       "      <td>1</td>\n",
       "      <td>1</td>\n",
       "      <td>13</td>\n",
       "      <td>0</td>\n",
       "    </tr>\n",
       "    <tr>\n",
       "      <th>1</th>\n",
       "      <td>1.51</td>\n",
       "      <td>2015</td>\n",
       "      <td>1</td>\n",
       "      <td>1</td>\n",
       "      <td>13</td>\n",
       "      <td>0</td>\n",
       "    </tr>\n",
       "    <tr>\n",
       "      <th>2</th>\n",
       "      <td>0.38</td>\n",
       "      <td>2011</td>\n",
       "      <td>10</td>\n",
       "      <td>5</td>\n",
       "      <td>11</td>\n",
       "      <td>0</td>\n",
       "    </tr>\n",
       "    <tr>\n",
       "      <th>3</th>\n",
       "      <td>1.22</td>\n",
       "      <td>2012</td>\n",
       "      <td>12</td>\n",
       "      <td>5</td>\n",
       "      <td>21</td>\n",
       "      <td>0</td>\n",
       "    </tr>\n",
       "    <tr>\n",
       "      <th>4</th>\n",
       "      <td>3.34</td>\n",
       "      <td>2012</td>\n",
       "      <td>12</td>\n",
       "      <td>5</td>\n",
       "      <td>21</td>\n",
       "      <td>0</td>\n",
       "    </tr>\n",
       "  </tbody>\n",
       "</table>\n",
       "</div>"
      ],
      "text/plain": [
       "   distance  year  month  week_day  hour  cab_type\n",
       "0      1.44  2015      1         1    13         0\n",
       "1      1.51  2015      1         1    13         0\n",
       "2      0.38  2011     10         5    11         0\n",
       "3      1.22  2012     12         5    21         0\n",
       "4      3.34  2012     12         5    21         0"
      ]
     },
     "execution_count": 59,
     "metadata": {},
     "output_type": "execute_result"
    }
   ],
   "source": [
    "test_data.head()"
   ]
  },
  {
   "cell_type": "markdown",
   "metadata": {},
   "source": [
    "### 2. Visualizing the effects of feature's on target variable"
   ]
  },
  {
   "cell_type": "markdown",
   "metadata": {},
   "source": [
    "#### A. Hour effect on no of rides"
   ]
  },
  {
   "cell_type": "code",
   "execution_count": 60,
   "metadata": {},
   "outputs": [
    {
     "data": {
      "text/plain": [
       "Text(0.5, 1.0, 'Hour_No_Of_Rides_Distribution')"
      ]
     },
     "execution_count": 60,
     "metadata": {},
     "output_type": "execute_result"
    },
    {
     "data": {
      "image/png": "[encoded data removed]",
      "text/plain": [
       "<Figure size 720x576 with 1 Axes>"
      ]
     },
     "metadata": {
      "needs_background": "light"
     },
     "output_type": "display_data"
    }
   ],
   "source": [
    "plt.figure(figsize=(10,8))\n",
    "hour_fare=train_data.groupby(by='hour').fare_amount.sum()\n",
    "sns.barplot(hour_fare.index,hour_fare)\n",
    "plt.ylabel('No_of_Rides')\n",
    "plt.xlabel('Hour')\n",
    "plt.title('Hour_No_Of_Rides_Distribution')"
   ]
  },
  {
   "cell_type": "markdown",
   "metadata": {},
   "source": [
    "##### Observations from above: \n",
    "1.\t6.00 PM – 11.00 PM hours shows higher number of cab rides.\n",
    "2.\t1.00 AM – 6.00 AM hours shows lower number of cab rides.\n"
   ]
  },
  {
   "cell_type": "markdown",
   "metadata": {},
   "source": [
    "#### B. Hour effect on Fare Amount"
   ]
  },
  {
   "cell_type": "code",
   "execution_count": 61,
   "metadata": {},
   "outputs": [
    {
     "data": {
      "text/plain": [
       "Text(0.5, 1.0, 'Hour_FareAmount_Distribution')"
      ]
     },
     "execution_count": 61,
     "metadata": {},
     "output_type": "execute_result"
    },
    {
     "data": {
      "image/png": "[encoded data removed]",
      "text/plain": [
       "<Figure size 720x576 with 1 Axes>"
      ]
     },
     "metadata": {
      "needs_background": "light"
     },
     "output_type": "display_data"
    }
   ],
   "source": [
    "# Hour effect on fare_amount\n",
    "plt.figure(figsize=(10,8))\n",
    "hour_fare=train_data.groupby(by='hour').fare_amount.mean()\n",
    "sns.barplot(hour_fare.index,hour_fare)\n",
    "plt.ylabel('Avg_Fare_Amount')\n",
    "plt.xlabel('Hour')\n",
    "plt.title('Hour_FareAmount_Distribution')"
   ]
  },
  {
   "cell_type": "markdown",
   "metadata": {},
   "source": [
    "##### Observations from above: \n",
    "Late night hours 10.00 PM – 4.00 AM shows higher fare rates.\n"
   ]
  },
  {
   "cell_type": "markdown",
   "metadata": {},
   "source": [
    "#### C. Week Day effect on Fare Amount"
   ]
  },
  {
   "cell_type": "code",
   "execution_count": 62,
   "metadata": {},
   "outputs": [
    {
     "data": {
      "text/plain": [
       "Text(0.5, 1.0, 'WeekDay_FareAmount_Distribution')"
      ]
     },
     "execution_count": 62,
     "metadata": {},
     "output_type": "execute_result"
    },
    {
     "data": {
      "image/png": "[encoded data removed]",
      "text/plain": [
       "<Figure size 720x576 with 1 Axes>"
      ]
     },
     "metadata": {
      "needs_background": "light"
     },
     "output_type": "display_data"
    }
   ],
   "source": [
    "plt.figure(figsize=(10,8))\n",
    "week_day_fare=train_data.groupby(by='week_day').fare_amount.mean()\n",
    "sns.barplot(week_day_fare.index,week_day_fare)\n",
    "plt.ylabel('Avg_Fare_Amount')\n",
    "plt.xlabel('Week Day')\n",
    "plt.title('WeekDay_FareAmount_Distribution')"
   ]
  },
  {
   "cell_type": "markdown",
   "metadata": {},
   "source": [
    "##### Observations from above: \n",
    "Weekday shows no major impact on fare_amount.\n"
   ]
  },
  {
   "cell_type": "markdown",
   "metadata": {},
   "source": [
    "#### D. Month effect on Fare Amount"
   ]
  },
  {
   "cell_type": "code",
   "execution_count": 63,
   "metadata": {},
   "outputs": [
    {
     "data": {
      "text/plain": [
       "Text(0.5, 1.0, 'Month_FareAmount_Distribution')"
      ]
     },
     "execution_count": 63,
     "metadata": {},
     "output_type": "execute_result"
    },
    {
     "data": {
      "image/png": "[encoded data removed]",
      "text/plain": [
       "<Figure size 720x576 with 1 Axes>"
      ]
     },
     "metadata": {
      "needs_background": "light"
     },
     "output_type": "display_data"
    }
   ],
   "source": [
    "plt.figure(figsize=(10,8))\n",
    "month_fare=train_data.groupby(by='month').fare_amount.median()\n",
    "sns.barplot(month_fare.index,month_fare)\n",
    "plt.ylabel('Avg_Fare_Amount')\n",
    "plt.xlabel('Month')\n",
    "plt.title('Month_FareAmount_Distribution')"
   ]
  },
  {
   "cell_type": "markdown",
   "metadata": {},
   "source": [
    "##### Observations from above: \n",
    "Month shows no major impact on fare_amount.\n"
   ]
  },
  {
   "cell_type": "markdown",
   "metadata": {},
   "source": [
    "#### E. Year effect on Fare Amount"
   ]
  },
  {
   "cell_type": "code",
   "execution_count": 64,
   "metadata": {},
   "outputs": [
    {
     "data": {
      "text/plain": [
       "Text(0.5, 1.0, 'Year_FareAmount_Distribution')"
      ]
     },
     "execution_count": 64,
     "metadata": {},
     "output_type": "execute_result"
    },
    {
     "data": {
      "image/png": "[encoded data removed]",
      "text/plain": [
       "<Figure size 720x576 with 1 Axes>"
      ]
     },
     "metadata": {
      "needs_background": "light"
     },
     "output_type": "display_data"
    }
   ],
   "source": [
    "plt.figure(figsize=(10,8))\n",
    "year_fare=train_data.groupby(by='year').fare_amount.mean()\n",
    "sns.barplot(year_fare.index,year_fare)\n",
    "plt.ylabel('Avg_Fare_Amount')\n",
    "plt.xlabel('Year')\n",
    "plt.title('Year_FareAmount_Distribution')"
   ]
  },
  {
   "cell_type": "markdown",
   "metadata": {},
   "source": [
    "##### Observations from above: \n",
    "Year shows a slight increasing effect on Fare Amount.\n"
   ]
  },
  {
   "cell_type": "markdown",
   "metadata": {},
   "source": [
    "#### F. Distance effect on Fare Amount"
   ]
  },
  {
   "cell_type": "code",
   "execution_count": 65,
   "metadata": {},
   "outputs": [
    {
     "data": {
      "text/plain": [
       "Text(0.5, 1.0, 'Distance_Fare_Amount_Distribution')"
      ]
     },
     "execution_count": 65,
     "metadata": {},
     "output_type": "execute_result"
    },
    {
     "data": {
      "image/png": "[encoded data removed]",
      "text/plain": [
       "<Figure size 720x576 with 1 Axes>"
      ]
     },
     "metadata": {
      "needs_background": "light"
     },
     "output_type": "display_data"
    }
   ],
   "source": [
    "plt.figure(figsize=(10,8))\n",
    "distance_fare=train_data.groupby(by='distance').fare_amount.mean()\n",
    "sns.scatterplot(distance_fare.index,distance_fare)\n",
    "plt.ylabel('Avg_Fare_Amount')\n",
    "plt.xlabel('Distance_in_Miles')\n",
    "plt.title('Distance_Fare_Amount_Distribution')"
   ]
  },
  {
   "cell_type": "markdown",
   "metadata": {},
   "source": [
    "##### Observations from above: \n",
    "Distance shows a highly linear increasing effect on Fare Amount.\n"
   ]
  },
  {
   "cell_type": "markdown",
   "metadata": {},
   "source": [
    "#### G. Cab Type effect on Number of Rides"
   ]
  },
  {
   "cell_type": "code",
   "execution_count": 66,
   "metadata": {},
   "outputs": [
    {
     "data": {
      "text/html": [
       "<div>\n",
       "<style scoped>\n",
       "    .dataframe tbody tr th:only-of-type {\n",
       "        vertical-align: middle;\n",
       "    }\n",
       "\n",
       "    .dataframe tbody tr th {\n",
       "        vertical-align: top;\n",
       "    }\n",
       "\n",
       "    .dataframe thead th {\n",
       "        text-align: right;\n",
       "    }\n",
       "</style>\n",
       "<table border=\"1\" class=\"dataframe\">\n",
       "  <thead>\n",
       "    <tr style=\"text-align: right;\">\n",
       "      <th></th>\n",
       "      <th>fare_amount</th>\n",
       "    </tr>\n",
       "    <tr>\n",
       "      <th>cab_type</th>\n",
       "      <th></th>\n",
       "    </tr>\n",
       "  </thead>\n",
       "  <tbody>\n",
       "    <tr>\n",
       "      <th>0</th>\n",
       "      <td>81902.18</td>\n",
       "    </tr>\n",
       "    <tr>\n",
       "      <th>1</th>\n",
       "      <td>9458.83</td>\n",
       "    </tr>\n",
       "  </tbody>\n",
       "</table>\n",
       "</div>"
      ],
      "text/plain": [
       "          fare_amount\n",
       "cab_type             \n",
       "0            81902.18\n",
       "1             9458.83"
      ]
     },
     "execution_count": 66,
     "metadata": {},
     "output_type": "execute_result"
    }
   ],
   "source": [
    "cab_type_fare=pd.DataFrame(train_data.groupby(by='cab_type').fare_amount.sum())\n",
    "cab_type_fare"
   ]
  },
  {
   "cell_type": "code",
   "execution_count": 67,
   "metadata": {
    "scrolled": true
   },
   "outputs": [
    {
     "data": {
      "text/plain": [
       "<matplotlib.legend.Legend at 0x2e75d11a948>"
      ]
     },
     "execution_count": 67,
     "metadata": {},
     "output_type": "execute_result"
    },
    {
     "data": {
      "text/plain": [
       "<Figure size 864x720 with 0 Axes>"
      ]
     },
     "metadata": {},
     "output_type": "display_data"
    },
    {
     "data": {
      "image/png": "[encoded data removed]",
      "text/plain": [
       "<Figure size 432x288 with 1 Axes>"
      ]
     },
     "metadata": {},
     "output_type": "display_data"
    }
   ],
   "source": [
    "plt.figure(figsize=(12,10))\n",
    "cab_type_fare.plot.pie(y='fare_amount')\n",
    "plt.ylabel('No_of_Rides')\n",
    "plt.xlabel('CabType_No_of_Rides_Distribution')\n",
    "label={0:'Small Cab Size',1:'Large Size Cab'}\n",
    "plt.legend([\"Small Cab Size\", \"Large Size Cab\"],bbox_to_anchor =(0.75, 1.15))"
   ]
  },
  {
   "cell_type": "markdown",
   "metadata": {},
   "source": [
    "##### Observations from above: \n",
    "Most of the cabs rides are of small size cab.\n"
   ]
  },
  {
   "cell_type": "markdown",
   "metadata": {},
   "source": [
    "### 3. Feature Selection"
   ]
  },
  {
   "cell_type": "markdown",
   "metadata": {},
   "source": [
    "#### A. Features Multi Collinearity Test"
   ]
  },
  {
   "cell_type": "code",
   "execution_count": 68,
   "metadata": {
    "collapsed": true
   },
   "outputs": [
    {
     "data": {
      "text/plain": [
       "Text(0.5, 1.0, 'Features_Inter_Correlation_Plot')"
      ]
     },
     "execution_count": 68,
     "metadata": {},
     "output_type": "execute_result"
    },
    {
     "data": {
      "image/png": "[encoded data removed]",
      "text/plain": [
       "<Figure size 576x432 with 2 Axes>"
      ]
     },
     "metadata": {
      "needs_background": "light"
     },
     "output_type": "display_data"
    }
   ],
   "source": [
    "plt.figure(figsize=(8,6))\n",
    "corr=train_data.corr()\n",
    "sns.heatmap(corr,annot=True)\n",
    "plt.title('Features_Inter_Correlation_Plot')"
   ]
  },
  {
   "cell_type": "markdown",
   "metadata": {},
   "source": [
    "#### B. Categorical Features - Target Chi Square Test"
   ]
  },
  {
   "cell_type": "code",
   "execution_count": 69,
   "metadata": {
    "collapsed": true
   },
   "outputs": [
    {
     "name": "stdout",
     "output_type": "stream",
     "text": [
      "Alternate Hypothesis passed. year  and fare_amount have linear Relationship. Stat Value:  8012.770514321917\n",
      "Alternate Hypothesis passed. month  and fare_amount have linear Relationship. Stat Value:  1554.1134100596967\n",
      "Fail to Reject Null Hypothesis. week_day  and fare_amount doesn't have linear Relationship. Stat Value:  753.9326897507752\n",
      "Alternate Hypothesis passed. hour  and fare_amount have linear Relationship. Stat Value:  3185.6794329124587\n",
      "Fail to Reject Null Hypothesis. cab_type  and fare_amount doesn't have linear Relationship. Stat Value:  99.2470189936279\n"
     ]
    }
   ],
   "source": [
    "#performing Chi square Test\n",
    "'''\n",
    "Significance level: 0.5\n",
    "\n",
    "Alternate Hypothesis: Column and fare_amount have linear Relationship.        pValue <= 0.5 \n",
    "\n",
    "Null Hypothesis:Column and fare_amount doesn't have linear Relationship.      pValue > 0.5 \n",
    "'''\n",
    "from scipy.stats import chi2_contingency\n",
    "cat_cols=train_data.drop(columns=['fare_amount','distance']).columns\n",
    "col_reduced=[]\n",
    "for i in cat_cols:\n",
    "    ct = pd.crosstab(train_data[i],train_data['fare_amount'])\n",
    "    stat,pvalue,dof,expected_R = chi2_contingency(ct)\n",
    "\n",
    "    if pvalue <= 0.05:\n",
    "        print(\"Alternate Hypothesis passed.\",i,\" and fare_amount have linear Relationship. Stat Value: \",stat)\n",
    "    else:\n",
    "        col_reduced.append(i)\n",
    "        print(\"Fail to Reject Null Hypothesis.\",i,\" and fare_amount doesn't have linear Relationship. Stat Value: \",stat) "
   ]
  },
  {
   "cell_type": "markdown",
   "metadata": {},
   "source": [
    "##### Observations from above:\n",
    "1. The correlation values between feature variables is less than 0.15. Thus, multicollinearity doesn’t exists between the   feature variables.\n",
    "2.\tThe Distance column have a high coorelation value with the target variable.\n",
    "3. We Fail to reject null hypothesis for week_day & cab_type columns. \n",
    "4. We are not going to drop any columns as cab_type is the only column to provide a relationship with passenger count & week_day have a slight impact on number of rides."
   ]
  },
  {
   "cell_type": "markdown",
   "metadata": {},
   "source": [
    "### 4. Feature Scaling"
   ]
  },
  {
   "cell_type": "code",
   "execution_count": 70,
   "metadata": {},
   "outputs": [],
   "source": [
    "feature_col=train_data.drop(columns='fare_amount').columns\n",
    "scaler=StandardScaler()\n",
    "scaler.fit(train_data[feature_col])\n",
    "train_data[feature_col]=scaler.transform(train_data[feature_col])\n",
    "col=test_data.columns\n",
    "test_data[col]=scaler.transform(test_data[col])"
   ]
  },
  {
   "cell_type": "code",
   "execution_count": 71,
   "metadata": {
    "scrolled": true
   },
   "outputs": [
    {
     "data": {
      "text/html": [
       "<div>\n",
       "<style scoped>\n",
       "    .dataframe tbody tr th:only-of-type {\n",
       "        vertical-align: middle;\n",
       "    }\n",
       "\n",
       "    .dataframe tbody tr th {\n",
       "        vertical-align: top;\n",
       "    }\n",
       "\n",
       "    .dataframe thead th {\n",
       "        text-align: right;\n",
       "    }\n",
       "</style>\n",
       "<table border=\"1\" class=\"dataframe\">\n",
       "  <thead>\n",
       "    <tr style=\"text-align: right;\">\n",
       "      <th></th>\n",
       "      <th>fare_amount</th>\n",
       "      <th>distance</th>\n",
       "      <th>year</th>\n",
       "      <th>month</th>\n",
       "      <th>week_day</th>\n",
       "      <th>hour</th>\n",
       "      <th>cab_type</th>\n",
       "    </tr>\n",
       "  </thead>\n",
       "  <tbody>\n",
       "    <tr>\n",
       "      <th>0</th>\n",
       "      <td>4.5</td>\n",
       "      <td>-0.780545</td>\n",
       "      <td>-1.432612</td>\n",
       "      <td>-0.063480</td>\n",
       "      <td>-1.522383</td>\n",
       "      <td>0.528434</td>\n",
       "      <td>-0.339201</td>\n",
       "    </tr>\n",
       "    <tr>\n",
       "      <th>2</th>\n",
       "      <td>5.7</td>\n",
       "      <td>-0.568458</td>\n",
       "      <td>-0.369232</td>\n",
       "      <td>0.512967</td>\n",
       "      <td>0.001561</td>\n",
       "      <td>-2.149992</td>\n",
       "      <td>-0.339201</td>\n",
       "    </tr>\n",
       "    <tr>\n",
       "      <th>3</th>\n",
       "      <td>7.7</td>\n",
       "      <td>0.279893</td>\n",
       "      <td>0.162458</td>\n",
       "      <td>-0.639927</td>\n",
       "      <td>1.017524</td>\n",
       "      <td>-1.519774</td>\n",
       "      <td>-0.339201</td>\n",
       "    </tr>\n",
       "    <tr>\n",
       "      <th>4</th>\n",
       "      <td>5.3</td>\n",
       "      <td>-0.202124</td>\n",
       "      <td>-0.900922</td>\n",
       "      <td>-0.928151</td>\n",
       "      <td>-1.014401</td>\n",
       "      <td>-1.047111</td>\n",
       "      <td>-0.339201</td>\n",
       "    </tr>\n",
       "    <tr>\n",
       "      <th>6</th>\n",
       "      <td>7.5</td>\n",
       "      <td>-0.462414</td>\n",
       "      <td>0.162458</td>\n",
       "      <td>1.377638</td>\n",
       "      <td>-1.014401</td>\n",
       "      <td>1.001097</td>\n",
       "      <td>-0.339201</td>\n",
       "    </tr>\n",
       "  </tbody>\n",
       "</table>\n",
       "</div>"
      ],
      "text/plain": [
       "   fare_amount  distance      year     month  week_day      hour  cab_type\n",
       "0          4.5 -0.780545 -1.432612 -0.063480 -1.522383  0.528434 -0.339201\n",
       "2          5.7 -0.568458 -0.369232  0.512967  0.001561 -2.149992 -0.339201\n",
       "3          7.7  0.279893  0.162458 -0.639927  1.017524 -1.519774 -0.339201\n",
       "4          5.3 -0.202124 -0.900922 -0.928151 -1.014401 -1.047111 -0.339201\n",
       "6          7.5 -0.462414  0.162458  1.377638 -1.014401  1.001097 -0.339201"
      ]
     },
     "execution_count": 71,
     "metadata": {},
     "output_type": "execute_result"
    }
   ],
   "source": [
    "train_data.head()"
   ]
  },
  {
   "cell_type": "code",
   "execution_count": 72,
   "metadata": {
    "scrolled": true
   },
   "outputs": [
    {
     "data": {
      "text/html": [
       "<div>\n",
       "<style scoped>\n",
       "    .dataframe tbody tr th:only-of-type {\n",
       "        vertical-align: middle;\n",
       "    }\n",
       "\n",
       "    .dataframe tbody tr th {\n",
       "        vertical-align: top;\n",
       "    }\n",
       "\n",
       "    .dataframe thead th {\n",
       "        text-align: right;\n",
       "    }\n",
       "</style>\n",
       "<table border=\"1\" class=\"dataframe\">\n",
       "  <thead>\n",
       "    <tr style=\"text-align: right;\">\n",
       "      <th></th>\n",
       "      <th>distance</th>\n",
       "      <th>year</th>\n",
       "      <th>month</th>\n",
       "      <th>week_day</th>\n",
       "      <th>hour</th>\n",
       "      <th>cab_type</th>\n",
       "    </tr>\n",
       "  </thead>\n",
       "  <tbody>\n",
       "    <tr>\n",
       "      <th>0</th>\n",
       "      <td>-0.009317</td>\n",
       "      <td>1.757528</td>\n",
       "      <td>-1.504598</td>\n",
       "      <td>-1.014401</td>\n",
       "      <td>-0.101784</td>\n",
       "      <td>-0.339201</td>\n",
       "    </tr>\n",
       "    <tr>\n",
       "      <th>1</th>\n",
       "      <td>0.058165</td>\n",
       "      <td>1.757528</td>\n",
       "      <td>-1.504598</td>\n",
       "      <td>-1.014401</td>\n",
       "      <td>-0.101784</td>\n",
       "      <td>-0.339201</td>\n",
       "    </tr>\n",
       "    <tr>\n",
       "      <th>2</th>\n",
       "      <td>-1.031195</td>\n",
       "      <td>-0.369232</td>\n",
       "      <td>1.089414</td>\n",
       "      <td>1.017524</td>\n",
       "      <td>-0.416893</td>\n",
       "      <td>-0.339201</td>\n",
       "    </tr>\n",
       "    <tr>\n",
       "      <th>3</th>\n",
       "      <td>-0.221405</td>\n",
       "      <td>0.162458</td>\n",
       "      <td>1.665861</td>\n",
       "      <td>1.017524</td>\n",
       "      <td>1.158652</td>\n",
       "      <td>-0.339201</td>\n",
       "    </tr>\n",
       "    <tr>\n",
       "      <th>4</th>\n",
       "      <td>1.822350</td>\n",
       "      <td>0.162458</td>\n",
       "      <td>1.665861</td>\n",
       "      <td>1.017524</td>\n",
       "      <td>1.158652</td>\n",
       "      <td>-0.339201</td>\n",
       "    </tr>\n",
       "  </tbody>\n",
       "</table>\n",
       "</div>"
      ],
      "text/plain": [
       "   distance      year     month  week_day      hour  cab_type\n",
       "0 -0.009317  1.757528 -1.504598 -1.014401 -0.101784 -0.339201\n",
       "1  0.058165  1.757528 -1.504598 -1.014401 -0.101784 -0.339201\n",
       "2 -1.031195 -0.369232  1.089414  1.017524 -0.416893 -0.339201\n",
       "3 -0.221405  0.162458  1.665861  1.017524  1.158652 -0.339201\n",
       "4  1.822350  0.162458  1.665861  1.017524  1.158652 -0.339201"
      ]
     },
     "execution_count": 72,
     "metadata": {},
     "output_type": "execute_result"
    }
   ],
   "source": [
    "test_data.head()"
   ]
  },
  {
   "cell_type": "code",
   "execution_count": 73,
   "metadata": {},
   "outputs": [],
   "source": [
    "features=train_data.drop(columns='fare_amount')\n",
    "label=train_data.fare_amount"
   ]
  },
  {
   "cell_type": "markdown",
   "metadata": {},
   "source": [
    "# Splitting & modelling"
   ]
  },
  {
   "cell_type": "code",
   "execution_count": 74,
   "metadata": {
    "collapsed": true
   },
   "outputs": [
    {
     "name": "stdout",
     "output_type": "stream",
     "text": [
      "\n",
      "\n",
      "\n",
      " 0\n",
      "\n",
      "Linear Regression Modelling\n",
      "Accuracy Metrics:\n",
      "Mean Squared Error:  5.28\n",
      "Root Mean Squared Error:  2.3\n",
      "Mean Absolute Percentage Error:  19.66\n",
      "\n",
      "Decision Tree Regressor Modelling\n",
      "Accuracy Metrics:\n",
      "Mean Squared Error:  4.9\n",
      "Root Mean Squared Error:  2.21\n",
      "Mean Absolute Percentage Error:  18.82\n",
      "\n",
      "Random Forest Regressor Modelling\n",
      "Accuracy Metrics:\n",
      "Mean Squared Error:  4.67\n",
      "Root Mean Squared Error:  2.16\n",
      "Mean Absolute Percentage Error:  19.17\n",
      "\n",
      "LightGBM Regressor Modelling\n",
      "Accuracy Metrics:\n",
      "Mean Squared Error:  4.22\n",
      "Root Mean Squared Error:  2.05\n",
      "Mean Absolute Percentage Error:  17.67\n",
      "\n",
      "\n",
      "\n",
      " 1\n",
      "\n",
      "Linear Regression Modelling\n",
      "Accuracy Metrics:\n",
      "Mean Squared Error:  4.77\n",
      "Root Mean Squared Error:  2.18\n",
      "Mean Absolute Percentage Error:  19.62\n",
      "\n",
      "Decision Tree Regressor Modelling\n",
      "Accuracy Metrics:\n",
      "Mean Squared Error:  4.48\n",
      "Root Mean Squared Error:  2.12\n",
      "Mean Absolute Percentage Error:  18.79\n",
      "\n",
      "Random Forest Regressor Modelling\n",
      "Accuracy Metrics:\n",
      "Mean Squared Error:  4.55\n",
      "Root Mean Squared Error:  2.13\n",
      "Mean Absolute Percentage Error:  19.62\n",
      "\n",
      "LightGBM Regressor Modelling\n",
      "Accuracy Metrics:\n",
      "Mean Squared Error:  4.03\n",
      "Root Mean Squared Error:  2.01\n",
      "Mean Absolute Percentage Error:  17.79\n",
      "\n",
      "\n",
      "\n",
      " 2\n",
      "\n",
      "Linear Regression Modelling\n",
      "Accuracy Metrics:\n",
      "Mean Squared Error:  4.5\n",
      "Root Mean Squared Error:  2.12\n",
      "Mean Absolute Percentage Error:  18.82\n",
      "\n",
      "Decision Tree Regressor Modelling\n",
      "Accuracy Metrics:\n",
      "Mean Squared Error:  4.27\n",
      "Root Mean Squared Error:  2.07\n",
      "Mean Absolute Percentage Error:  17.99\n",
      "\n",
      "Random Forest Regressor Modelling\n",
      "Accuracy Metrics:\n",
      "Mean Squared Error:  4.26\n",
      "Root Mean Squared Error:  2.06\n",
      "Mean Absolute Percentage Error:  18.7\n",
      "\n",
      "LightGBM Regressor Modelling\n",
      "Accuracy Metrics:\n",
      "Mean Squared Error:  3.88\n",
      "Root Mean Squared Error:  1.97\n",
      "Mean Absolute Percentage Error:  16.83\n",
      "\n",
      "\n",
      "\n",
      " 3\n",
      "\n",
      "Linear Regression Modelling\n",
      "Accuracy Metrics:\n",
      "Mean Squared Error:  4.9\n",
      "Root Mean Squared Error:  2.21\n",
      "Mean Absolute Percentage Error:  19.42\n",
      "\n",
      "Decision Tree Regressor Modelling\n",
      "Accuracy Metrics:\n",
      "Mean Squared Error:  4.49\n",
      "Root Mean Squared Error:  2.12\n",
      "Mean Absolute Percentage Error:  18.81\n",
      "\n",
      "Random Forest Regressor Modelling\n",
      "Accuracy Metrics:\n",
      "Mean Squared Error:  4.36\n",
      "Root Mean Squared Error:  2.09\n",
      "Mean Absolute Percentage Error:  19.05\n",
      "\n",
      "LightGBM Regressor Modelling\n",
      "Accuracy Metrics:\n",
      "Mean Squared Error:  3.86\n",
      "Root Mean Squared Error:  1.96\n",
      "Mean Absolute Percentage Error:  17.41\n",
      "\n",
      "\n",
      "\n",
      " 4\n",
      "\n",
      "Linear Regression Modelling\n",
      "Accuracy Metrics:\n",
      "Mean Squared Error:  4.59\n",
      "Root Mean Squared Error:  2.14\n",
      "Mean Absolute Percentage Error:  19.7\n",
      "\n",
      "Decision Tree Regressor Modelling\n",
      "Accuracy Metrics:\n",
      "Mean Squared Error:  4.31\n",
      "Root Mean Squared Error:  2.08\n",
      "Mean Absolute Percentage Error:  18.86\n",
      "\n",
      "Random Forest Regressor Modelling\n",
      "Accuracy Metrics:\n",
      "Mean Squared Error:  4.43\n",
      "Root Mean Squared Error:  2.1\n",
      "Mean Absolute Percentage Error:  19.86\n",
      "\n",
      "LightGBM Regressor Modelling\n",
      "Accuracy Metrics:\n",
      "Mean Squared Error:  3.92\n",
      "Root Mean Squared Error:  1.98\n",
      "Mean Absolute Percentage Error:  17.85\n",
      "\n",
      "\n",
      "\n",
      " 5\n",
      "\n",
      "Linear Regression Modelling\n",
      "Accuracy Metrics:\n",
      "Mean Squared Error:  4.73\n",
      "Root Mean Squared Error:  2.17\n",
      "Mean Absolute Percentage Error:  19.66\n",
      "\n",
      "Decision Tree Regressor Modelling\n",
      "Accuracy Metrics:\n",
      "Mean Squared Error:  4.41\n",
      "Root Mean Squared Error:  2.1\n",
      "Mean Absolute Percentage Error:  19.02\n",
      "\n",
      "Random Forest Regressor Modelling\n",
      "Accuracy Metrics:\n",
      "Mean Squared Error:  4.38\n",
      "Root Mean Squared Error:  2.09\n",
      "Mean Absolute Percentage Error:  19.32\n",
      "\n",
      "LightGBM Regressor Modelling\n",
      "Accuracy Metrics:\n",
      "Mean Squared Error:  3.85\n",
      "Root Mean Squared Error:  1.96\n",
      "Mean Absolute Percentage Error:  17.6\n",
      "\n",
      "\n",
      "\n",
      " 6\n",
      "\n",
      "Linear Regression Modelling\n",
      "Accuracy Metrics:\n",
      "Mean Squared Error:  4.62\n",
      "Root Mean Squared Error:  2.15\n",
      "Mean Absolute Percentage Error:  18.78\n",
      "\n",
      "Decision Tree Regressor Modelling\n",
      "Accuracy Metrics:\n",
      "Mean Squared Error:  4.49\n",
      "Root Mean Squared Error:  2.12\n",
      "Mean Absolute Percentage Error:  18.28\n",
      "\n",
      "Random Forest Regressor Modelling\n",
      "Accuracy Metrics:\n",
      "Mean Squared Error:  4.39\n",
      "Root Mean Squared Error:  2.1\n",
      "Mean Absolute Percentage Error:  18.65\n",
      "\n",
      "LightGBM Regressor Modelling\n",
      "Accuracy Metrics:\n",
      "Mean Squared Error:  3.92\n",
      "Root Mean Squared Error:  1.98\n",
      "Mean Absolute Percentage Error:  17.04\n",
      "\n",
      "\n",
      "\n",
      " 7\n",
      "\n",
      "Linear Regression Modelling\n",
      "Accuracy Metrics:\n",
      "Mean Squared Error:  4.63\n",
      "Root Mean Squared Error:  2.15\n",
      "Mean Absolute Percentage Error:  18.56\n",
      "\n",
      "Decision Tree Regressor Modelling\n",
      "Accuracy Metrics:\n",
      "Mean Squared Error:  4.51\n",
      "Root Mean Squared Error:  2.12\n",
      "Mean Absolute Percentage Error:  18.14\n",
      "\n",
      "Random Forest Regressor Modelling\n",
      "Accuracy Metrics:\n",
      "Mean Squared Error:  4.41\n",
      "Root Mean Squared Error:  2.1\n",
      "Mean Absolute Percentage Error:  18.92\n",
      "\n",
      "LightGBM Regressor Modelling\n",
      "Accuracy Metrics:\n",
      "Mean Squared Error:  3.96\n",
      "Root Mean Squared Error:  1.99\n",
      "Mean Absolute Percentage Error:  17.16\n",
      "\n",
      "\n",
      "\n",
      " 8\n",
      "\n",
      "Linear Regression Modelling\n",
      "Accuracy Metrics:\n",
      "Mean Squared Error:  4.42\n",
      "Root Mean Squared Error:  2.1\n",
      "Mean Absolute Percentage Error:  19.14\n",
      "\n",
      "Decision Tree Regressor Modelling\n",
      "Accuracy Metrics:\n",
      "Mean Squared Error:  4.31\n",
      "Root Mean Squared Error:  2.08\n",
      "Mean Absolute Percentage Error:  18.17\n",
      "\n",
      "Random Forest Regressor Modelling\n",
      "Accuracy Metrics:\n",
      "Mean Squared Error:  4.46\n",
      "Root Mean Squared Error:  2.11\n",
      "Mean Absolute Percentage Error:  19.22\n",
      "\n",
      "LightGBM Regressor Modelling\n",
      "Accuracy Metrics:\n",
      "Mean Squared Error:  3.94\n",
      "Root Mean Squared Error:  1.98\n",
      "Mean Absolute Percentage Error:  17.44\n",
      "\n",
      "\n",
      "\n",
      " 9\n",
      "\n",
      "Linear Regression Modelling\n",
      "Accuracy Metrics:\n",
      "Mean Squared Error:  4.64\n",
      "Root Mean Squared Error:  2.15\n",
      "Mean Absolute Percentage Error:  18.63\n",
      "\n",
      "Decision Tree Regressor Modelling\n",
      "Accuracy Metrics:\n",
      "Mean Squared Error:  4.35\n",
      "Root Mean Squared Error:  2.09\n",
      "Mean Absolute Percentage Error:  17.86\n",
      "\n",
      "Random Forest Regressor Modelling\n",
      "Accuracy Metrics:\n",
      "Mean Squared Error:  4.45\n",
      "Root Mean Squared Error:  2.11\n",
      "Mean Absolute Percentage Error:  18.5\n",
      "\n",
      "LightGBM Regressor Modelling\n",
      "Accuracy Metrics:\n",
      "Mean Squared Error:  3.97\n",
      "Root Mean Squared Error:  1.99\n",
      "Mean Absolute Percentage Error:  17.14\n",
      "\n",
      "\n",
      "\n",
      " 10\n",
      "\n",
      "Linear Regression Modelling\n",
      "Accuracy Metrics:\n",
      "Mean Squared Error:  4.54\n",
      "Root Mean Squared Error:  2.13\n",
      "Mean Absolute Percentage Error:  19.52\n",
      "\n",
      "Decision Tree Regressor Modelling\n",
      "Accuracy Metrics:\n",
      "Mean Squared Error:  4.31\n",
      "Root Mean Squared Error:  2.08\n",
      "Mean Absolute Percentage Error:  18.46\n",
      "\n",
      "Random Forest Regressor Modelling\n",
      "Accuracy Metrics:\n",
      "Mean Squared Error:  4.5\n",
      "Root Mean Squared Error:  2.12\n",
      "Mean Absolute Percentage Error:  19.28\n",
      "\n",
      "LightGBM Regressor Modelling\n",
      "Accuracy Metrics:\n",
      "Mean Squared Error:  3.89\n",
      "Root Mean Squared Error:  1.97\n",
      "Mean Absolute Percentage Error:  17.33\n",
      "\n",
      "\n",
      "\n",
      " 11\n",
      "\n",
      "Linear Regression Modelling\n",
      "Accuracy Metrics:\n",
      "Mean Squared Error:  5.0\n",
      "Root Mean Squared Error:  2.24\n",
      "Mean Absolute Percentage Error:  19.76\n",
      "\n",
      "Decision Tree Regressor Modelling\n",
      "Accuracy Metrics:\n",
      "Mean Squared Error:  4.7\n",
      "Root Mean Squared Error:  2.17\n",
      "Mean Absolute Percentage Error:  19.15\n",
      "\n",
      "Random Forest Regressor Modelling\n",
      "Accuracy Metrics:\n",
      "Mean Squared Error:  4.5\n",
      "Root Mean Squared Error:  2.12\n",
      "Mean Absolute Percentage Error:  19.5\n",
      "\n",
      "LightGBM Regressor Modelling\n",
      "Accuracy Metrics:\n",
      "Mean Squared Error:  4.1\n",
      "Root Mean Squared Error:  2.02\n",
      "Mean Absolute Percentage Error:  17.9\n",
      "\n",
      "\n",
      "\n",
      " 12\n",
      "\n",
      "Linear Regression Modelling\n",
      "Accuracy Metrics:\n",
      "Mean Squared Error:  4.43\n",
      "Root Mean Squared Error:  2.1\n",
      "Mean Absolute Percentage Error:  19.08\n",
      "\n",
      "Decision Tree Regressor Modelling\n",
      "Accuracy Metrics:\n",
      "Mean Squared Error:  4.19\n",
      "Root Mean Squared Error:  2.05\n",
      "Mean Absolute Percentage Error:  18.21\n",
      "\n",
      "Random Forest Regressor Modelling\n",
      "Accuracy Metrics:\n",
      "Mean Squared Error:  4.08\n",
      "Root Mean Squared Error:  2.02\n",
      "Mean Absolute Percentage Error:  18.52\n",
      "\n",
      "LightGBM Regressor Modelling\n",
      "Accuracy Metrics:\n",
      "Mean Squared Error:  3.59\n",
      "Root Mean Squared Error:  1.89\n",
      "Mean Absolute Percentage Error:  16.94\n",
      "\n",
      "\n",
      "\n",
      " 13\n",
      "\n",
      "Linear Regression Modelling\n",
      "Accuracy Metrics:\n",
      "Mean Squared Error:  4.79\n",
      "Root Mean Squared Error:  2.19\n",
      "Mean Absolute Percentage Error:  19.27\n",
      "\n",
      "Decision Tree Regressor Modelling\n",
      "Accuracy Metrics:\n",
      "Mean Squared Error:  4.58\n",
      "Root Mean Squared Error:  2.14\n",
      "Mean Absolute Percentage Error:  18.61\n",
      "\n",
      "Random Forest Regressor Modelling\n",
      "Accuracy Metrics:\n",
      "Mean Squared Error:  4.36\n",
      "Root Mean Squared Error:  2.09\n",
      "Mean Absolute Percentage Error:  18.76\n",
      "\n",
      "LightGBM Regressor Modelling\n",
      "Accuracy Metrics:\n",
      "Mean Squared Error:  4.04\n",
      "Root Mean Squared Error:  2.01\n",
      "Mean Absolute Percentage Error:  17.48\n",
      "\n",
      "\n",
      "\n",
      " 14\n",
      "\n",
      "Linear Regression Modelling\n",
      "Accuracy Metrics:\n",
      "Mean Squared Error:  5.03\n",
      "Root Mean Squared Error:  2.24\n",
      "Mean Absolute Percentage Error:  19.61\n",
      "\n",
      "Decision Tree Regressor Modelling\n",
      "Accuracy Metrics:\n",
      "Mean Squared Error:  4.63\n",
      "Root Mean Squared Error:  2.15\n",
      "Mean Absolute Percentage Error:  18.75\n",
      "\n",
      "Random Forest Regressor Modelling\n"
     ]
    },
    {
     "name": "stdout",
     "output_type": "stream",
     "text": [
      "Accuracy Metrics:\n",
      "Mean Squared Error:  4.76\n",
      "Root Mean Squared Error:  2.18\n",
      "Mean Absolute Percentage Error:  19.81\n",
      "\n",
      "LightGBM Regressor Modelling\n",
      "Accuracy Metrics:\n",
      "Mean Squared Error:  4.19\n",
      "Root Mean Squared Error:  2.05\n",
      "Mean Absolute Percentage Error:  17.87\n",
      "\n",
      "\n",
      "\n",
      " 15\n",
      "\n",
      "Linear Regression Modelling\n",
      "Accuracy Metrics:\n",
      "Mean Squared Error:  5.18\n",
      "Root Mean Squared Error:  2.28\n",
      "Mean Absolute Percentage Error:  18.55\n",
      "\n",
      "Decision Tree Regressor Modelling\n",
      "Accuracy Metrics:\n",
      "Mean Squared Error:  5.06\n",
      "Root Mean Squared Error:  2.25\n",
      "Mean Absolute Percentage Error:  17.75\n",
      "\n",
      "Random Forest Regressor Modelling\n",
      "Accuracy Metrics:\n",
      "Mean Squared Error:  4.96\n",
      "Root Mean Squared Error:  2.23\n",
      "Mean Absolute Percentage Error:  18.34\n",
      "\n",
      "LightGBM Regressor Modelling\n",
      "Accuracy Metrics:\n",
      "Mean Squared Error:  4.61\n",
      "Root Mean Squared Error:  2.15\n",
      "Mean Absolute Percentage Error:  17.06\n",
      "\n",
      "\n",
      "\n",
      " 16\n",
      "\n",
      "Linear Regression Modelling\n",
      "Accuracy Metrics:\n",
      "Mean Squared Error:  4.7\n",
      "Root Mean Squared Error:  2.17\n",
      "Mean Absolute Percentage Error:  19.22\n",
      "\n",
      "Decision Tree Regressor Modelling\n",
      "Accuracy Metrics:\n",
      "Mean Squared Error:  4.43\n",
      "Root Mean Squared Error:  2.1\n",
      "Mean Absolute Percentage Error:  18.34\n",
      "\n",
      "Random Forest Regressor Modelling\n",
      "Accuracy Metrics:\n",
      "Mean Squared Error:  4.39\n",
      "Root Mean Squared Error:  2.1\n",
      "Mean Absolute Percentage Error:  18.93\n",
      "\n",
      "LightGBM Regressor Modelling\n",
      "Accuracy Metrics:\n",
      "Mean Squared Error:  3.93\n",
      "Root Mean Squared Error:  1.98\n",
      "Mean Absolute Percentage Error:  17.32\n",
      "\n",
      "\n",
      "\n",
      " 17\n",
      "\n",
      "Linear Regression Modelling\n",
      "Accuracy Metrics:\n",
      "Mean Squared Error:  4.58\n",
      "Root Mean Squared Error:  2.14\n",
      "Mean Absolute Percentage Error:  18.87\n",
      "\n",
      "Decision Tree Regressor Modelling\n",
      "Accuracy Metrics:\n",
      "Mean Squared Error:  4.35\n",
      "Root Mean Squared Error:  2.09\n",
      "Mean Absolute Percentage Error:  18.74\n",
      "\n",
      "Random Forest Regressor Modelling\n",
      "Accuracy Metrics:\n",
      "Mean Squared Error:  4.34\n",
      "Root Mean Squared Error:  2.08\n",
      "Mean Absolute Percentage Error:  18.97\n",
      "\n",
      "LightGBM Regressor Modelling\n",
      "Accuracy Metrics:\n",
      "Mean Squared Error:  3.84\n",
      "Root Mean Squared Error:  1.96\n",
      "Mean Absolute Percentage Error:  17.15\n",
      "\n",
      "\n",
      "\n",
      " 18\n",
      "\n",
      "Linear Regression Modelling\n",
      "Accuracy Metrics:\n",
      "Mean Squared Error:  4.18\n",
      "Root Mean Squared Error:  2.04\n",
      "Mean Absolute Percentage Error:  19.27\n",
      "\n",
      "Decision Tree Regressor Modelling\n",
      "Accuracy Metrics:\n",
      "Mean Squared Error:  4.05\n",
      "Root Mean Squared Error:  2.01\n",
      "Mean Absolute Percentage Error:  18.55\n",
      "\n",
      "Random Forest Regressor Modelling\n",
      "Accuracy Metrics:\n",
      "Mean Squared Error:  4.23\n",
      "Root Mean Squared Error:  2.06\n",
      "Mean Absolute Percentage Error:  19.65\n",
      "\n",
      "LightGBM Regressor Modelling\n",
      "Accuracy Metrics:\n",
      "Mean Squared Error:  3.71\n",
      "Root Mean Squared Error:  1.93\n",
      "Mean Absolute Percentage Error:  17.9\n",
      "\n",
      "\n",
      "\n",
      " 19\n",
      "\n",
      "Linear Regression Modelling\n",
      "Accuracy Metrics:\n",
      "Mean Squared Error:  5.07\n",
      "Root Mean Squared Error:  2.25\n",
      "Mean Absolute Percentage Error:  20.25\n",
      "\n",
      "Decision Tree Regressor Modelling\n",
      "Accuracy Metrics:\n",
      "Mean Squared Error:  4.68\n",
      "Root Mean Squared Error:  2.16\n",
      "Mean Absolute Percentage Error:  18.83\n",
      "\n",
      "Random Forest Regressor Modelling\n",
      "Accuracy Metrics:\n",
      "Mean Squared Error:  4.64\n",
      "Root Mean Squared Error:  2.15\n",
      "Mean Absolute Percentage Error:  19.32\n",
      "\n",
      "LightGBM Regressor Modelling\n",
      "Accuracy Metrics:\n",
      "Mean Squared Error:  4.2\n",
      "Root Mean Squared Error:  2.05\n",
      "Mean Absolute Percentage Error:  17.58\n",
      "\n",
      "\n",
      "\n",
      " 20\n",
      "\n",
      "Linear Regression Modelling\n",
      "Accuracy Metrics:\n",
      "Mean Squared Error:  4.84\n",
      "Root Mean Squared Error:  2.2\n",
      "Mean Absolute Percentage Error:  19.5\n",
      "\n",
      "Decision Tree Regressor Modelling\n",
      "Accuracy Metrics:\n",
      "Mean Squared Error:  4.59\n",
      "Root Mean Squared Error:  2.14\n",
      "Mean Absolute Percentage Error:  18.76\n",
      "\n",
      "Random Forest Regressor Modelling\n",
      "Accuracy Metrics:\n",
      "Mean Squared Error:  4.56\n",
      "Root Mean Squared Error:  2.14\n",
      "Mean Absolute Percentage Error:  18.79\n",
      "\n",
      "LightGBM Regressor Modelling\n",
      "Accuracy Metrics:\n",
      "Mean Squared Error:  4.11\n",
      "Root Mean Squared Error:  2.03\n",
      "Mean Absolute Percentage Error:  17.5\n"
     ]
    }
   ],
   "source": [
    "for i in range(0,21):\n",
    "    print('\\n\\n\\n',i)\n",
    "    x_train, x_test, y_train, y_test= train_test_split(features,label,test_size=0.2,random_state=i)\n",
    "    \n",
    "    LR_model, DT_model, RF_model, LGB_model=modelling(x_train, x_test, y_train, y_test)\n",
    "    "
   ]
  },
  {
   "cell_type": "markdown",
   "metadata": {},
   "source": [
    "##### Observations from above:\n",
    "From above the best random state for train test split is 12.\n",
    "\n",
    "Linear Regression Modelling\n",
    "Accuracy Metrics:\n",
    "Mean Squared Error:  4.43\n",
    "Root Mean Squared Error:  2.1\n",
    "Mean Absolute Percentage Error:  19.08\n",
    "\n",
    "Decision Tree Regressor Modelling\n",
    "Accuracy Metrics:\n",
    "Mean Squared Error:  4.19\n",
    "Root Mean Squared Error:  2.05\n",
    "Mean Absolute Percentage Error:  18.21\n",
    "\n",
    "Random Forest Regressor Modelling\n",
    "Accuracy Metrics:\n",
    "Mean Squared Error:  4.06\n",
    "Root Mean Squared Error:  2.01\n",
    "Mean Absolute Percentage Error:  18.5\n",
    "\n",
    "LightGBM Regressor Modelling\n",
    "Accuracy Metrics:\n",
    "Mean Squared Error:  3.59\n",
    "Root Mean Squared Error:  1.89\n",
    "Mean Absolute Percentage Error:  16.94"
   ]
  },
  {
   "cell_type": "markdown",
   "metadata": {},
   "source": [
    "# Best Split"
   ]
  },
  {
   "cell_type": "code",
   "execution_count": 76,
   "metadata": {},
   "outputs": [],
   "source": [
    "x_train, x_test, y_train, y_test= train_test_split(features,label,test_size=0.2,random_state=12)"
   ]
  },
  {
   "cell_type": "markdown",
   "metadata": {},
   "source": [
    "##### From above two best models are Random Forest & LightGBM Regressor. Let's Hypertune their parameters for better result."
   ]
  },
  {
   "cell_type": "markdown",
   "metadata": {},
   "source": [
    "# Hyper Parameters Tuning & Best Model"
   ]
  },
  {
   "cell_type": "code",
   "execution_count": 77,
   "metadata": {},
   "outputs": [
    {
     "name": "stdout",
     "output_type": "stream",
     "text": [
      "Random Search CV Random Forest Regressor Model Performance:\n",
      "Best Parameters =  {'n_estimators': 238, 'min_samples_leaf': 2, 'max_depth': 8}\n",
      "Accuracy Metrics:\n",
      "Mean Squared Error:  3.78\n",
      "Root Mean Squared Error:  1.94\n",
      "Mean Absolute Percentage Error:  17.31\n"
     ]
    },
    {
     "data": {
      "text/plain": [
       "(3.78, 1.94, 17.31)"
      ]
     },
     "execution_count": 77,
     "metadata": {},
     "output_type": "execute_result"
    }
   ],
   "source": [
    "##Random Search CV on Random Forest Model\n",
    "\n",
    "RF_model = RandomForestRegressor(random_state = 0)\n",
    "n_estimator = list(range(0,401,2))\n",
    "depth = list(range(2,20,2))\n",
    "samples_leaf=list(range(1,5))\n",
    "# Create the random grid\n",
    "rand_grid = {'n_estimators': n_estimator,\n",
    "             'max_depth': depth,\n",
    "             'min_samples_leaf': samples_leaf\n",
    "            }\n",
    "\n",
    "randomcv_RF = RandomizedSearchCV(RF_model, param_distributions = rand_grid, n_iter = 5, cv = 5, random_state=0)\n",
    "randomcv_RF = randomcv_RF.fit(x_train,y_train)\n",
    "predictions_RF = randomcv_RF.predict(x_test)\n",
    "\n",
    "view_best_params_RF = randomcv_RF.best_params_\n",
    "\n",
    "best_RF_model = randomcv_RF.best_estimator_\n",
    "\n",
    "predictions_RF = best_RF_model.predict(x_test)\n",
    "\n",
    "print('Random Search CV Random Forest Regressor Model Performance:')\n",
    "print('Best Parameters = ',view_best_params_RF)\n",
    "acc_metrics(y_test,predictions_RF)"
   ]
  },
  {
   "cell_type": "code",
   "execution_count": 78,
   "metadata": {},
   "outputs": [
    {
     "name": "stdout",
     "output_type": "stream",
     "text": [
      "Random Search CV LGB Regressor Model Performance:\n",
      "Best Parameters =  {'n_estimators': 2950, 'max_depth': 5}\n",
      "Accuracy Metrics:\n",
      "Mean Squared Error:  3.56\n",
      "Root Mean Squared Error:  1.89\n",
      "Mean Absolute Percentage Error:  16.86\n"
     ]
    },
    {
     "data": {
      "text/plain": [
       "(3.56, 1.89, 16.86)"
      ]
     },
     "execution_count": 78,
     "metadata": {},
     "output_type": "execute_result"
    }
   ],
   "source": [
    "##Random Search CV on LGBMRegressor model\n",
    "\n",
    "LGB_model = LGBMRegressor(random_state = 0,\n",
    "                          objective= 'regression',\n",
    "                          learning_rate='0.01',\n",
    "                          subsample=0.7,\n",
    "                          colsample_bytree=0.8,\n",
    "                          num_leaves=5,\n",
    "                          min_child_weight=10)\n",
    "\n",
    "n_estimator = list(range(1000,10001,50))\n",
    "depth = list(range(1,10))\n",
    "\n",
    "# Create the random grid\n",
    "rand_grid = {'n_estimators': n_estimator,\n",
    "             'max_depth': depth}\n",
    "\n",
    "randomcv_LGB = RandomizedSearchCV(LGB_model, param_distributions = rand_grid, n_iter = 5, cv = 5, random_state=0)\n",
    "randomcv_LGB = randomcv_LGB.fit(x_train,y_train)\n",
    "predictions_LGB = randomcv_LGB.predict(x_test)\n",
    "\n",
    "view_best_params_LGB = randomcv_LGB.best_params_\n",
    "\n",
    "best_LGB_model = randomcv_LGB.best_estimator_\n",
    "\n",
    "predictions_LGB = best_LGB_model.predict(x_test)\n",
    "\n",
    "print('Random Search CV LGB Regressor Model Performance:')\n",
    "print('Best Parameters = ',view_best_params_LGB)\n",
    "acc_metrics(y_test,predictions_LGB)"
   ]
  },
  {
   "cell_type": "markdown",
   "metadata": {},
   "source": [
    "##### Observations from above:\n",
    "From above the best performing model is LightGBM Regressor. RMSE = 1.89 ,  MAPE = 16.86 %"
   ]
  },
  {
   "cell_type": "markdown",
   "metadata": {},
   "source": [
    "#### Best Parameters"
   ]
  },
  {
   "cell_type": "code",
   "execution_count": 79,
   "metadata": {
    "collapsed": true
   },
   "outputs": [
    {
     "data": {
      "text/plain": [
       "{'boosting_type': 'gbdt',\n",
       " 'class_weight': None,\n",
       " 'colsample_bytree': 0.8,\n",
       " 'importance_type': 'split',\n",
       " 'learning_rate': '0.01',\n",
       " 'max_depth': 5,\n",
       " 'min_child_samples': 20,\n",
       " 'min_child_weight': 10,\n",
       " 'min_split_gain': 0.0,\n",
       " 'n_estimators': 2950,\n",
       " 'n_jobs': -1,\n",
       " 'num_leaves': 5,\n",
       " 'objective': 'regression',\n",
       " 'random_state': 0,\n",
       " 'reg_alpha': 0.0,\n",
       " 'reg_lambda': 0.0,\n",
       " 'silent': True,\n",
       " 'subsample': 0.7,\n",
       " 'subsample_for_bin': 200000,\n",
       " 'subsample_freq': 0}"
      ]
     },
     "execution_count": 79,
     "metadata": {},
     "output_type": "execute_result"
    }
   ],
   "source": [
    "best_LGB_model.get_params()"
   ]
  },
  {
   "cell_type": "markdown",
   "metadata": {},
   "source": [
    "# Saving Models"
   ]
  },
  {
   "cell_type": "code",
   "execution_count": 80,
   "metadata": {},
   "outputs": [],
   "source": [
    "pickle.dump(best_LGB_model,open('Cab_Fare_Prediction_model.model','wb'))\n",
    "pickle.dump(scaler,open('scaler.model','wb'))"
   ]
  },
  {
   "cell_type": "markdown",
   "metadata": {},
   "source": [
    "# Conclusion"
   ]
  },
  {
   "cell_type": "markdown",
   "metadata": {},
   "source": [
    "###### •\tDistance shows the max correlation with Fare amount. Thus it is the most important feature in predicting fare amount.\n",
    "###### •\tFare amount shows a slight linear relation with the year, i.e. the fare rates are increasing year by year.\n",
    "###### •\tMonths & Weekdays Doesn’t shows any major impact on fare amount. Fare rates is mostly uniform.\n",
    "###### •\tLate Night & early morning hours shows lower number of rides but higher fare rates, while rest of the day the number of rides are higher but with lower fare rates.\n",
    "###### •\tPassenger count doesn’t have any major impact on fare rates.\n",
    "###### •\tOn the basis of RMSE & MAPE the performing model is LightGBM Regressor. \n",
    "###### •\tBest model RMSE = 1.89, MAPE = 16.86 %.\n"
   ]
  }
 ],
 "metadata": {
  "kernelspec": {
   "display_name": "Python 3",
   "language": "python",
   "name": "python3"
  },
  "language_info": {
   "codemirror_mode": {
    "name": "ipython",
    "version": 3
   },
   "file_extension": ".py",
   "mimetype": "text/x-python",
   "name": "python",
   "nbconvert_exporter": "python",
   "pygments_lexer": "ipython3",
   "version": "3.7.6"
  }
 },
 "nbformat": 4,
 "nbformat_minor": 4
}
